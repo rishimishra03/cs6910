{
 "cells": [
  {
   "cell_type": "code",
   "execution_count": 1,
   "metadata": {},
   "outputs": [
    {
     "name": "stderr",
     "output_type": "stream",
     "text": [
      "Using TensorFlow backend.\n"
     ]
    }
   ],
   "source": [
    "import numpy as np\n",
    "import keras\n",
    "from keras.datasets import fashion_mnist\n",
    "from matplotlib import pyplot as plt"
   ]
  },
  {
   "cell_type": "code",
   "execution_count": 3,
   "metadata": {},
   "outputs": [],
   "source": [
    "import wandb"
   ]
  },
  {
   "cell_type": "code",
   "execution_count": 4,
   "metadata": {},
   "outputs": [
    {
     "name": "stderr",
     "output_type": "stream",
     "text": [
      "\u001b[34m\u001b[1mwandb\u001b[0m: Currently logged in as: \u001b[33mrishi_m\u001b[0m (use `wandb login --relogin` to force relogin)\n"
     ]
    },
    {
     "data": {
      "text/plain": [
       "True"
      ]
     },
     "execution_count": 4,
     "metadata": {},
     "output_type": "execute_result"
    }
   ],
   "source": [
    "wandb.login()"
   ]
  },
  {
   "cell_type": "code",
   "execution_count": 5,
   "metadata": {},
   "outputs": [
    {
     "name": "stderr",
     "output_type": "stream",
     "text": [
      "\u001b[34m\u001b[1mwandb\u001b[0m: wandb version 0.10.22 is available!  To upgrade, please run:\n",
      "\u001b[34m\u001b[1mwandb\u001b[0m:  $ pip install wandb --upgrade\n"
     ]
    },
    {
     "data": {
      "text/html": [
       "\n",
       "                Tracking run with wandb version 0.10.20<br/>\n",
       "                Syncing run <strong style=\"color:#cdcd00\">laced-oath-4</strong> to <a href=\"https://wandb.ai\" target=\"_blank\">Weights & Biases</a> <a href=\"https://docs.wandb.com/integrations/jupyter.html\" target=\"_blank\">(Documentation)</a>.<br/>\n",
       "                Project page: <a href=\"https://wandb.ai/rishi_m/my-project\" target=\"_blank\">https://wandb.ai/rishi_m/my-project</a><br/>\n",
       "                Run page: <a href=\"https://wandb.ai/rishi_m/my-project/runs/1vw1tdug\" target=\"_blank\">https://wandb.ai/rishi_m/my-project/runs/1vw1tdug</a><br/>\n",
       "                Run data is saved locally in <code>/home/rishi/Desktop/PHD/CS6910/Assignments/Assignment/Assigment1/wandb/run-20210310_153448-1vw1tdug</code><br/><br/>\n",
       "            "
      ],
      "text/plain": [
       "<IPython.core.display.HTML object>"
      ]
     },
     "metadata": {},
     "output_type": "display_data"
    },
    {
     "data": {
      "text/html": [
       "<h1>Run(1vw1tdug)</h1><iframe src=\"https://wandb.ai/rishi_m/my-project/runs/1vw1tdug\" style=\"border:none;width:100%;height:400px\"></iframe>"
      ],
      "text/plain": [
       "<wandb.sdk.wandb_run.Run at 0x7f3c5807b358>"
      ]
     },
     "execution_count": 5,
     "metadata": {},
     "output_type": "execute_result"
    }
   ],
   "source": [
    "wandb.init(project=\"my-project\")"
   ]
  },
  {
   "cell_type": "raw",
   "metadata": {},
   "source": [
    "fashion_mnist = keras.datasets.fashion_mnist\n",
    "\n",
    "(x_train, y_train), (x_test, y_test) = fashion_mnist.load_data()\n"
   ]
  },
  {
   "cell_type": "code",
   "execution_count": 6,
   "metadata": {},
   "outputs": [],
   "source": [
    "class_names = ['T-shirt/top', 'Trouser', 'Pullover', 'Dress', 'Coat',\n",
    "               'Sandal', 'Shirt', 'Sneaker', 'Bag', 'Ankle boot']"
   ]
  },
  {
   "cell_type": "code",
   "execution_count": 7,
   "metadata": {},
   "outputs": [],
   "source": [
    "def load_data():\n",
    "    data_dict = {}\n",
    "    fashion_mnist = keras.datasets.fashion_mnist\n",
    "    (x_train, y_train), (x_test, y_test) = fashion_mnist.load_data()\n",
    "    data_dict[\"x_train\"] = x_train; data_dict[\"y_train\"] = y_train\n",
    "    data_dict[\"x_test\"] = x_test; data_dict[\"y_test\"] = y_test\n",
    "    return data_dict"
   ]
  },
  {
   "cell_type": "code",
   "execution_count": 8,
   "metadata": {},
   "outputs": [],
   "source": [
    "dataset = load_data()"
   ]
  },
  {
   "cell_type": "code",
   "execution_count": 9,
   "metadata": {},
   "outputs": [],
   "source": [
    "def image_of_each_class(dataset):\n",
    "    \n",
    "    train_images = dataset['x_train']\n",
    "    train_labels = dataset['y_train']\n",
    "    \n",
    "    sample_images = []\n",
    "    sample_labels = []\n",
    "    for i in range(len(class_names)):\n",
    "        index = np.argmax(train_labels == i)\n",
    "        img = train_images[index]\n",
    "        lbl = class_names[train_labels[index]]\n",
    "        sample_images.append(img)\n",
    "        sample_labels.append(lbl)\n",
    "        \n",
    "    return sample_images,sample_labels"
   ]
  },
  {
   "cell_type": "code",
   "execution_count": 10,
   "metadata": {},
   "outputs": [],
   "source": [
    "sample_images,sample_labels = image_of_each_class(dataset)"
   ]
  },
  {
   "cell_type": "code",
   "execution_count": 11,
   "metadata": {},
   "outputs": [],
   "source": [
    "wandb.log({\"examples\": [wandb.Image(image, caption=label) for image,label in zip(sample_images,sample_labels)]})"
   ]
  },
  {
   "cell_type": "raw",
   "metadata": {},
   "source": [
    "for i in range(10):\n",
    "    pixels = x_train[i].reshape((28, 28))\n",
    "    plt.imshow(pixels, cmap='gray')\n",
    "    print(y_train[i])\n",
    "    plt.show()"
   ]
  },
  {
   "cell_type": "raw",
   "metadata": {},
   "source": [
    "plt.figure(figsize=(10,10))\n",
    "for i in range(10):\n",
    "    ind = np.argmax(y_train == i)\n",
    "    pixels = x_train[ind].reshape((28, 28))\n",
    "    plt.subplot(2,5,i+1)\n",
    "    plt.xticks([])\n",
    "    plt.yticks([])\n",
    "    plt.grid(False)\n",
    "    print(\"label = \",y_train[ind],\" : \",class_names[y_train[ind]])\n",
    "    plt.imshow(pixels, cmap=plt.cm.binary) #'gray')\n",
    "    plt.xlabel(class_names[y_train[ind]])\n",
    "plt.show()\n",
    "\n",
    "#wandb.log({\"chart\": plt.show()})\n",
    "#wandb.log({\"examples\": [wandb.Image(images, caption=\"Label\")]})"
   ]
  }
 ],
 "metadata": {
  "kernelspec": {
   "display_name": "Python 3",
   "language": "python",
   "name": "python3"
  },
  "language_info": {
   "codemirror_mode": {
    "name": "ipython",
    "version": 3
   },
   "file_extension": ".py",
   "mimetype": "text/x-python",
   "name": "python",
   "nbconvert_exporter": "python",
   "pygments_lexer": "ipython3",
   "version": "3.6.9"
  }
 },
 "nbformat": 4,
 "nbformat_minor": 4
}
