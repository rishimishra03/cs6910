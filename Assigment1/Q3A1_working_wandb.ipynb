{
 "cells": [
  {
   "cell_type": "code",
   "execution_count": 1,
   "metadata": {
    "id": "35I0Rq_ALBn1"
   },
   "outputs": [
    {
     "name": "stderr",
     "output_type": "stream",
     "text": [
      "Using TensorFlow backend.\n"
     ]
    }
   ],
   "source": [
    "import numpy as np\n",
    "import keras\n",
    "from keras.datasets import fashion_mnist\n",
    "from matplotlib import pyplot as plt\n",
    "import math"
   ]
  },
  {
   "cell_type": "code",
   "execution_count": 2,
   "metadata": {
    "id": "F9WkRbKBVjHY"
   },
   "outputs": [],
   "source": [
    "import wandb"
   ]
  },
  {
   "cell_type": "code",
   "execution_count": 3,
   "metadata": {
    "colab": {
     "base_uri": "https://localhost:8080/"
    },
    "id": "rQnZNSk3VjHa",
    "outputId": "3e12ea69-8c14-4df4-ef72-8b047b0b5f97"
   },
   "outputs": [],
   "source": [
    "#wandb.login()"
   ]
  },
  {
   "cell_type": "code",
   "execution_count": 4,
   "metadata": {
    "id": "95tMwn2GLBn-"
   },
   "outputs": [],
   "source": [
    "def sigmoid(a):\n",
    "    s = 1/(1+np.exp(-a))\n",
    "    return s\n",
    "\n",
    "def derivative_sigmoid(a):\n",
    "    ds = sigmoid(a) *(1-sigmoid (a))\n",
    "    return ds\n",
    "\n",
    "def tanh(a):\n",
    "    t=(np.exp(a)-np.exp(-a))/(np.exp(a)+np.exp(-a))\n",
    "    return t\n",
    "\n",
    "def derivative_tanh(a):\n",
    "    dt=1-tanh(a)**2\n",
    "    return dt\n",
    "\n",
    "\n",
    "def softmax(a):\n",
    "    return np.exp(a) / np.sum(np.exp(a), axis=0) #expA (axis=0, keepdims=True)"
   ]
  },
  {
   "cell_type": "code",
   "execution_count": 5,
   "metadata": {
    "id": "jPo8y7emLBn_"
   },
   "outputs": [],
   "source": [
    "class_names = ['T-shirt/top', 'Trouser', 'Pullover', 'Dress', 'Coat',\n",
    "               'Sandal', 'Shirt', 'Sneaker', 'Bag', 'Ankle boot']"
   ]
  },
  {
   "cell_type": "code",
   "execution_count": 6,
   "metadata": {
    "id": "yaktHRmbLBn_"
   },
   "outputs": [],
   "source": [
    "fashion_mnist = keras.datasets.fashion_mnist\n",
    "(x_train_orig, y_train_orig), (x_test_orig, y_test_orig) = fashion_mnist.load_data()"
   ]
  },
  {
   "cell_type": "code",
   "execution_count": 7,
   "metadata": {
    "id": "GlZuuDCfVjHf"
   },
   "outputs": [],
   "source": [
    "def one_hot_vector_form(labels,no_neurons_output_layer):\n",
    "    no_of_examples = labels.shape[0]\n",
    "    one_hot_vector = np.zeros((no_of_examples , no_neurons_output_layer))\n",
    "    for i in range(no_of_examples):\n",
    "        one_hot_vector[i, labels[i]] = 1    \n",
    "        y = one_hot_vector#.T\n",
    "    return y  "
   ]
  },
  {
   "cell_type": "code",
   "execution_count": 8,
   "metadata": {
    "id": "Pgc8UpKtLBn_"
   },
   "outputs": [],
   "source": [
    "def initialize_parameters(layer_dimensions):\n",
    "\n",
    "    #np.random.seed(0)\n",
    "    parameters = {}\n",
    "    L = len(layer_dimensions)            # number of layers in the network\n",
    "\n",
    "    for k in range(1, L):\n",
    "        \n",
    "        parameters['w' + str(k)] = np.random.randn(layer_dimensions[k], layer_dimensions[k-1]) \n",
    "        parameters['b' + str(k)] = np.zeros((layer_dimensions[k], 1))\n",
    "        \n",
    "    return parameters"
   ]
  },
  {
   "cell_type": "code",
   "execution_count": 9,
   "metadata": {
    "id": "b7ztMD9uVjHi"
   },
   "outputs": [],
   "source": [
    "def initialize_update(layer_dimensions):\n",
    "\n",
    "    #np.random.seed(0)\n",
    "    update = {}\n",
    "    L = len(layer_dimensions)            # number of layers in the network\n",
    "\n",
    "    for k in range(1, L):\n",
    "        \n",
    "        update['update_w' + str(k)] = np.zeros((layer_dimensions[k], layer_dimensions[k-1])) \n",
    "        update['update_b' + str(k)] = np.zeros((layer_dimensions[k], 1))\n",
    "        \n",
    "    return update"
   ]
  },
  {
   "cell_type": "code",
   "execution_count": 10,
   "metadata": {
    "id": "ZUDf5E5pVjHj"
   },
   "outputs": [],
   "source": [
    "def initialize_velocity(layer_dimensions):\n",
    "\n",
    "    #np.random.seed(0)\n",
    "    velocity = {}\n",
    "    L = len(layer_dimensions)            # number of layers in the network\n",
    "\n",
    "    for k in range(1, L):\n",
    "        \n",
    "        velocity['v_w' + str(k)] = np.zeros((layer_dimensions[k], layer_dimensions[k-1])) \n",
    "        velocity['v_b' + str(k)] = np.zeros((layer_dimensions[k], 1))\n",
    "        \n",
    "    return velocity"
   ]
  },
  {
   "cell_type": "code",
   "execution_count": 11,
   "metadata": {
    "id": "gpcuclvYVjHk"
   },
   "outputs": [],
   "source": [
    "def initialize_moment(layer_dimensions):\n",
    "\n",
    "    #np.random.seed(0)\n",
    "    moment = {}\n",
    "    L = len(layer_dimensions)            # number of layers in the network\n",
    "\n",
    "    for k in range(1, L):\n",
    "        \n",
    "        moment['m_w' + str(k)] = np.zeros((layer_dimensions[k], layer_dimensions[k-1])) \n",
    "        moment['m_b' + str(k)] = np.zeros((layer_dimensions[k], 1))\n",
    "        \n",
    "    return moment"
   ]
  },
  {
   "cell_type": "code",
   "execution_count": 12,
   "metadata": {
    "id": "44uvQtw7LBoA"
   },
   "outputs": [],
   "source": [
    "def agrregation_forward(h, w, b):\n",
    "    \n",
    "    a = np.dot(w, h) + b\n",
    "    temp = (h,w,b)\n",
    "    \n",
    "    return a ,temp"
   ]
  },
  {
   "cell_type": "code",
   "execution_count": 13,
   "metadata": {
    "id": "ynL63aRULBoA"
   },
   "outputs": [],
   "source": [
    "def activation_forward(h_prev, w, b, activation):\n",
    "        \n",
    "    \n",
    "    if activation == \"sigmoid\":\n",
    "\n",
    "        a, linear_temp = agrregation_forward(h_prev, w, b)\n",
    "        h = sigmoid(a)\n",
    "    \n",
    "    elif activation == \"tanh\":\n",
    "        a, linear_temp = agrregation_forward(h_prev, w, b)\n",
    "        h = tanh(a)\n",
    "        \n",
    "    elif activation == \"softmax\":\n",
    "        a, linear_temp = agrregation_forward(h_prev, w, b)\n",
    "        h = softmax(a)\n",
    "    \n",
    "    \n",
    "    temp = (linear_temp, a)\n",
    "\n",
    "    return h, temp"
   ]
  },
  {
   "cell_type": "code",
   "execution_count": 14,
   "metadata": {
    "id": "d7MK5JmxLBoB"
   },
   "outputs": [],
   "source": [
    "\n",
    "def forward_pass(x, parameters):\n",
    "\n",
    "    temps = []\n",
    "    h = x\n",
    "    L = len(parameters) // 2                  # number of layers in the neural network\n",
    "    \n",
    "    for k in range(L-1):\n",
    "        l = k+1\n",
    "        h_prev = h \n",
    "        h,temp = activation_forward(h_prev, parameters['w'+str(l)], parameters['b'+str(l)], activation=\"sigmoid\")\n",
    "        temps.append(temp)\n",
    "    \n",
    "    \n",
    "    hL,temp1 = activation_forward(h, parameters['w'+str(L)], parameters['b'+str(L)], activation=\"softmax\")\n",
    "    temps.append(temp1)\n",
    "    \n",
    "            \n",
    "    return hL, temps"
   ]
  },
  {
   "cell_type": "code",
   "execution_count": 15,
   "metadata": {
    "id": "OX6qxo5yLBoB"
   },
   "outputs": [],
   "source": [
    "def cost_function(yhat, y):   \n",
    "    m = y.shape[1] # no. of examples\n",
    "  \n",
    "    product_sum = np.sum((y *np.log(yhat)), axis = 0)\n",
    "    cost = -1/m*np.sum(product_sum)\n",
    "    \n",
    "    return cost"
   ]
  },
  {
   "cell_type": "code",
   "execution_count": 16,
   "metadata": {
    "id": "4sEmnKQzLBoB"
   },
   "outputs": [],
   "source": [
    "def agrregation_backward(dL_da, temp):\n",
    "    \n",
    "    h_prev, w, b = temp \n",
    "    m = h_prev.shape[1]\n",
    "    dL_dh_prev = np.dot(w.T, dL_da)\n",
    "    \n",
    "    dL_dw = 1/m*np.dot(dL_da, h_prev.T)\n",
    "    dL_db = 1/m*np.sum(dL_da, axis=1, keepdims=True)\n",
    "     \n",
    "\n",
    "    return dL_dh_prev, dL_dw, dL_db"
   ]
  },
  {
   "cell_type": "code",
   "execution_count": 17,
   "metadata": {
    "id": "k5_8wzplLBoC"
   },
   "outputs": [],
   "source": [
    "def activation_backward(dL_dh, temp, activation):\n",
    "\n",
    "    linear_temp, a = temp\n",
    "    \n",
    "    if activation == \"sigmoid\":\n",
    "        ds = derivative_sigmoid(a)\n",
    "        dL_da = dL_dh * ds\n",
    "       \n",
    "        dL_dh_prev, dL_dw, dL_db = agrregation_backward(dL_da, linear_temp)    \n",
    "        \n",
    "    elif activation == \"tanh\":\n",
    "        dt = derivative_tanh(a)\n",
    "        dL_da = dL_dh * dt\n",
    "\n",
    "        dL_dh_prev, dL_dw, dL_db = agrregation_backward(dL_da, linear_temp)    \n",
    "    \n",
    "    return dL_dh_prev, dL_dw, dL_db"
   ]
  },
  {
   "cell_type": "code",
   "execution_count": 18,
   "metadata": {
    "id": "Izs4-_QvLBoC"
   },
   "outputs": [],
   "source": [
    "def backward_pass(yhat, y, temps):\n",
    "    \n",
    "    grads = {}\n",
    "    L = len(temps) # the number of layers\n",
    "    m = y.shape[1]\n",
    "\n",
    "# el = one hot vector\n",
    "    el = y\n",
    "    dL_dyhat = -(1/yhat)*el\n",
    "    dL_daL  = -(el - yhat)\n",
    "    current_temp = temps[L-1]\n",
    "    linear_tempL,aL = current_temp\n",
    "    \n",
    "    hL_prev, wL, bL = linear_tempL\n",
    "    m = hL_prev.shape[1]\n",
    "\n",
    "    dL_dhL_prev = np.dot(wL.T, dL_daL)\n",
    "    \n",
    "    dL_dwL = 1/m*np.dot(dL_daL, hL_prev.T)\n",
    "    dL_dbL = 1/m*np.sum(dL_daL, axis=1, keepdims=True)\n",
    "\n",
    "    grads[\"dL_dh\" + str(L-1)] = dL_dhL_prev\n",
    "    grads[\"dL_dw\" + str(L)]      = dL_dwL\n",
    "    grads[\"dL_db\" + str(L)] = dL_dbL\n",
    "    \n",
    "    # Loop from l=L-2 to l=0\n",
    "    for l in reversed(range(L-1)):\n",
    "        #print(l)\n",
    "        current_temp = temps[l]\n",
    "        dL_dh_prev, dL_dw, dL_db = activation_backward(grads[\"dL_dh\" + str(l+1)], current_temp, \"sigmoid\")\n",
    "        grads[\"dL_dh\" + str(l)] = dL_dh_prev\n",
    "        grads[\"dL_dw\" + str(l + 1)] = dL_dw\n",
    "        grads[\"dL_db\" + str(l + 1)] = dL_db\n",
    "\n",
    "    return grads"
   ]
  },
  {
   "cell_type": "code",
   "execution_count": 19,
   "metadata": {
    "id": "SzwkIK5CLBoD"
   },
   "outputs": [],
   "source": [
    "def parameter_update_vanilla(parameters, grads,learning_rate):\n",
    "    \n",
    "    L = len(parameters) // 2 # number of layers in the neural network\n",
    "\n",
    "    for l in range(L):\n",
    "        \n",
    "        parameters[\"w\" + str(l+1)] = parameters[\"w\" + str(l+1)]- learning_rate*grads[\"dL_dw\" + str(l + 1)]\n",
    "        parameters[\"b\" + str(l+1)] = parameters[\"b\" + str(l+1)]- learning_rate*grads[\"dL_db\" + str(l + 1)]\n",
    "\n",
    "    return parameters"
   ]
  },
  {
   "cell_type": "code",
   "execution_count": 20,
   "metadata": {
    "id": "3O7zeTg5VjHu"
   },
   "outputs": [],
   "source": [
    "def parameter_update_momentum(parameters, grads, update, learning_rate ,gamma):\n",
    "    \n",
    "    L = len(parameters) // 2 # number of layers in the neural network\n",
    "\n",
    "    for l in range(L):\n",
    "        update[\"update_w\" + str(l+1)] = gamma*update[\"update_w\" + str(l+1)] + learning_rate*grads[\"dL_dw\" + str(l + 1)]\n",
    "        update[\"update_b\" + str(l+1)] = gamma*update[\"update_b\" + str(l+1)] + learning_rate*grads[\"dL_db\" + str(l + 1)]\n",
    "        \n",
    "        parameters[\"w\" + str(l+1)] = parameters[\"w\" + str(l+1)]-update[\"update_w\" + str(l+1)]\n",
    "        parameters[\"b\" + str(l+1)] = parameters[\"b\" + str(l+1)]- update[\"update_b\" + str(l+1)]\n",
    "\n",
    "    return parameters, update"
   ]
  },
  {
   "cell_type": "code",
   "execution_count": 21,
   "metadata": {
    "id": "MJsK6AdHVjHv"
   },
   "outputs": [],
   "source": [
    "\n",
    "def parameter_update_RMSProp(parameters, grads, velocity, learning_rate ,beta,eps):\n",
    "    \n",
    "    L = len(parameters) // 2 # number of layers in the neural network\n",
    "\n",
    "    for l in range(L):\n",
    "        velocity[\"v_w\" + str(l+1)] = beta*velocity[\"v_w\" + str(l+1)] + (1-beta)*grads[\"dL_dw\" + str(l + 1)]**2\n",
    "        velocity[\"v_b\" + str(l+1)] = beta*velocity[\"v_b\" + str(l+1)] + (1-beta)*grads[\"dL_db\" + str(l + 1)]**2\n",
    "        \n",
    "        parameters[\"w\" + str(l+1)] = parameters[\"w\" + str(l+1)]- (learning_rate / np.sqrt(velocity[\"v_w\" + str(l+1)]+eps))*grads[\"dL_dw\" + str(l + 1)]\n",
    "        parameters[\"b\" + str(l+1)] = parameters[\"b\" + str(l+1)]- (learning_rate / np.sqrt(velocity[\"v_b\" + str(l+1)]+eps))*grads[\"dL_db\" + str(l + 1)]\n",
    "\n",
    "    return parameters, velocity"
   ]
  },
  {
   "cell_type": "code",
   "execution_count": 22,
   "metadata": {
    "id": "Swv1bFScVjHw"
   },
   "outputs": [],
   "source": [
    "def parameter_update_adam(parameters, grads, velocity, moment,learning_rate ,beta1,beta2,eps,epoch):\n",
    "    \n",
    "    L = len(parameters) // 2 # number of layers in the neural network\n",
    "\n",
    "    for l in range(L):\n",
    "        \n",
    "        \n",
    "        moment[\"m_w\" + str(l+1)] = beta1*moment[\"m_w\" + str(l+1)] + (1-beta1)*grads[\"dL_dw\" + str(l + 1)]\n",
    "        moment[\"m_b\" + str(l+1)] = beta1*moment[\"m_b\" + str(l+1)] + (1-beta1)*grads[\"dL_db\" + str(l + 1)]\n",
    "           \n",
    "        velocity[\"v_w\" + str(l+1)] = beta2*velocity[\"v_w\" + str(l+1)] + (1-beta2)*grads[\"dL_dw\" + str(l + 1)]**2\n",
    "        velocity[\"v_b\" + str(l+1)] = beta2*velocity[\"v_b\" + str(l+1)] + (1-beta2)*grads[\"dL_db\" + str(l + 1)]**2\n",
    "        \n",
    "        m_w_hat = moment[\"m_w\" + str(l+1)]/(1-beta1**(epoch+1))\n",
    "        m_b_hat = moment[\"m_b\" + str(l+1)]/(1-beta1**(epoch+1))\n",
    "        \n",
    "        v_w_hat = velocity[\"v_w\" + str(l+1)]/(1-beta2**(epoch+1))\n",
    "        v_b_hat = velocity[\"v_b\" + str(l+1)]/(1-beta2**(epoch+1))\n",
    "\n",
    "        \n",
    "        parameters[\"w\" + str(l+1)] = parameters[\"w\" + str(l+1)]- ((learning_rate / np.sqrt(velocity[\"v_w\" + str(l+1)]+eps))*m_w_hat)\n",
    "        parameters[\"b\" + str(l+1)] = parameters[\"b\" + str(l+1)]- ((learning_rate / np.sqrt(velocity[\"v_b\" + str(l+1)]+eps))*m_b_hat)\n",
    "\n",
    "    return parameters, velocity, moment"
   ]
  },
  {
   "cell_type": "code",
   "execution_count": 23,
   "metadata": {
    "id": "fznb670MVjHx"
   },
   "outputs": [],
   "source": [
    "def parameter_update_nadam(parameters, grads, velocity, moment,learning_rate ,beta1,beta2,eps,epoch):\n",
    "    \n",
    "    L = len(parameters) // 2 # number of layers in the neural network\n",
    "\n",
    "    for l in range(L):\n",
    "        \n",
    "        \n",
    "        moment[\"m_w\" + str(l+1)] = beta1*moment[\"m_w\" + str(l+1)] + (1-beta1)*grads[\"dL_dw\" + str(l + 1)]\n",
    "        moment[\"m_b\" + str(l+1)] = beta1*moment[\"m_b\" + str(l+1)] + (1-beta1)*grads[\"dL_db\" + str(l + 1)]\n",
    "           \n",
    "        velocity[\"v_w\" + str(l+1)] = beta2*velocity[\"v_w\" + str(l+1)] + (1-beta2)*grads[\"dL_dw\" + str(l + 1)]**2\n",
    "        velocity[\"v_b\" + str(l+1)] = beta2*velocity[\"v_b\" + str(l+1)] + (1-beta2)*grads[\"dL_db\" + str(l + 1)]**2\n",
    "        \n",
    "        m_w_hat = moment[\"m_w\" + str(l+1)]/(1-beta1**(epoch+1))\n",
    "        m_b_hat = moment[\"m_b\" + str(l+1)]/(1-beta1**(epoch+1))\n",
    "        \n",
    "        v_w_hat = velocity[\"v_w\" + str(l+1)]/(1-beta2**(epoch+1))\n",
    "        v_b_hat = velocity[\"v_b\" + str(l+1)]/(1-beta2**(epoch+1))\n",
    "        \n",
    "        \n",
    "        nadam_update_w =  (beta1*m_w_hat) + (((1-beta1)*grads[\"dL_dw\" + str(l + 1)])/ (1-beta1**(epoch+1)))\n",
    "        nadam_update_b =  (beta1*m_b_hat) + (((1-beta1)*grads[\"dL_db\" + str(l + 1)])/ (1-beta1**(epoch+1)))\n",
    "\n",
    "        \n",
    "        parameters[\"w\" + str(l+1)] = parameters[\"w\" + str(l+1)]- ((learning_rate / np.sqrt(velocity[\"v_w\" + str(l+1)]+eps))*nadam_update_w)                                       \n",
    "        parameters[\"b\" + str(l+1)] = parameters[\"b\" + str(l+1)]- ((learning_rate / np.sqrt(velocity[\"v_b\" + str(l+1)]+eps))*nadam_update_b)\n",
    "\n",
    "    return parameters, velocity, moment"
   ]
  },
  {
   "cell_type": "code",
   "execution_count": 24,
   "metadata": {
    "id": "ePAUEdh9VjH0"
   },
   "outputs": [],
   "source": [
    "def find_lookahead_parameters(parameters,update,gamma):\n",
    "    L = len(parameters) // 2 # number of layers in the neural network\n",
    "    lookahead_parameters = {}\n",
    "\n",
    "    for l in range(L):\n",
    "        lookahead_parameters[\"w\" + str(l+1)] = parameters[\"w\" + str(l+1)]-gamma*update[\"update_w\" + str(l+1)] \n",
    "        lookahead_parameters[\"b\" + str(l+1)] = parameters[\"b\" + str(l+1)]-gamma*update[\"update_b\" + str(l+1)]\n",
    "    return lookahead_parameters "
   ]
  },
  {
   "cell_type": "code",
   "execution_count": 25,
   "metadata": {
    "id": "iDKqDY1dLBoD"
   },
   "outputs": [],
   "source": [
    "def predict(x, y, parameters):\n",
    "    x =x.T\n",
    "    y =y.T\n",
    "    \n",
    "    m = x.shape[1]\n",
    "    n = len(parameters) // 2 # number of layers in the neural network\n",
    "    p = np.zeros((1,m))\n",
    "    \n",
    "    # Forward propagation\n",
    "    prob, temps = forward_pass(x, parameters)\n",
    "    \n",
    "\n",
    "    predicted_label = np.argmax(prob, axis=0)\n",
    "    true_label = np.argmax(y, axis=0)\n",
    "    \n",
    "    Accuracy = np.sum(predicted_label == true_label)/m\n",
    "\n",
    "    #print(\"Accuracy: \"  + str(Accuracy))\n",
    "        \n",
    "    return Accuracy"
   ]
  },
  {
   "cell_type": "code",
   "execution_count": 88,
   "metadata": {
    "colab": {
     "base_uri": "https://localhost:8080/"
    },
    "id": "RK_ze5mDLBoD",
    "outputId": "a43066ab-5e20-46cb-cd36-e968e9cfa903"
   },
   "outputs": [
    {
     "data": {
      "text/plain": [
       "(5000,)"
      ]
     },
     "execution_count": 88,
     "metadata": {},
     "output_type": "execute_result"
    }
   ],
   "source": [
    "x_train_orig = x_train_orig[:5000]\n",
    "x_test_orig = x_test_orig[:1000]\n",
    "y_train_orig = y_train_orig[:5000]\n",
    "y_test_orig = y_train_orig[:1000]\n",
    "y_train_orig.shape"
   ]
  },
  {
   "cell_type": "code",
   "execution_count": 94,
   "metadata": {},
   "outputs": [
    {
     "data": {
      "text/plain": [
       "10"
      ]
     },
     "execution_count": 94,
     "metadata": {},
     "output_type": "execute_result"
    }
   ],
   "source": []
  },
  {
   "cell_type": "code",
   "execution_count": 27,
   "metadata": {
    "colab": {
     "base_uri": "https://localhost:8080/"
    },
    "id": "9vqejUVSLBoE",
    "outputId": "fd2d36ba-1e33-4c96-f9d1-5cd36996b945"
   },
   "outputs": [
    {
     "name": "stdout",
     "output_type": "stream",
     "text": [
      "x_train's shape: (5000, 784)\n",
      "x_test's shape: (1000, 784)\n"
     ]
    }
   ],
   "source": [
    "x_train_flatten = x_train_orig.reshape(x_train_orig.shape[0], -1)\n",
    "x_test_flatten = x_test_orig.reshape(x_test_orig.shape[0], -1)\n",
    "x_train = x_train_flatten/255\n",
    "x_test = x_test_flatten/255\n",
    "\n",
    "print (\"x_train's shape: \" + str(x_train.shape))\n",
    "print (\"x_test's shape: \" + str(x_test.shape))\n"
   ]
  },
  {
   "cell_type": "code",
   "execution_count": 28,
   "metadata": {
    "id": "MSTq1e4SLBoE"
   },
   "outputs": [],
   "source": [
    "# index = 15\n",
    "# plt.imshow(x_train_orig[index])\n",
    "# print (\"y = \" + str(y_train_orig[index])+ \". It's a \" + class_names[y_train_orig[index]] +  \" picture.\")"
   ]
  },
  {
   "cell_type": "markdown",
   "metadata": {
    "id": "2dfEBUC1VjH4"
   },
   "source": [
    "x_train = np.array([[1,2,3,4],[3,4,5,6],[5,6,7,8]])\n",
    "y_train = np.array([[0,0,1],[1,0,0],[0,1,0]])\n",
    "y_train.shape"
   ]
  },
  {
   "cell_type": "code",
   "execution_count": 29,
   "metadata": {
    "colab": {
     "base_uri": "https://localhost:8080/"
    },
    "id": "aRb6wwMdVjH5",
    "outputId": "c7d7b432-f034-4cf7-b36d-10da4e2eca11"
   },
   "outputs": [
    {
     "data": {
      "text/plain": [
       "(5000, 784)"
      ]
     },
     "execution_count": 29,
     "metadata": {},
     "output_type": "execute_result"
    }
   ],
   "source": [
    "x_train.shape"
   ]
  },
  {
   "cell_type": "code",
   "execution_count": 113,
   "metadata": {
    "id": "WVOCfRCQLBoG"
   },
   "outputs": [],
   "source": [
    "no_of_training_examples = np.shape(x_train)[0]; no_of_testing_examples = np.shape(x_test)[0]\n",
    "size_input_layer = x_train.shape[1]\n",
    "no_hidden_layers = 3\n",
    "size_hidden_layer = 32 \n",
    "size_output_layer = len(np.unique(y_train_orig)) # no of class labels"
   ]
  },
  {
   "cell_type": "code",
   "execution_count": 117,
   "metadata": {
    "colab": {
     "base_uri": "https://localhost:8080/"
    },
    "id": "VkU692HSLBoG",
    "outputId": "5f866cc9-b75d-4020-dbf7-946225d0e09d"
   },
   "outputs": [
    {
     "data": {
      "text/plain": [
       "(5000, 10)"
      ]
     },
     "execution_count": 117,
     "metadata": {},
     "output_type": "execute_result"
    }
   ],
   "source": [
    "y_train = one_hot_vector_form(y_train_orig,size_output_layer)\n",
    "y_test = one_hot_vector_form(y_test_orig,size_output_layer)\n",
    "y_train.shape"
   ]
  },
  {
   "cell_type": "code",
   "execution_count": 118,
   "metadata": {},
   "outputs": [],
   "source": [
    "def get_layer_dims(size_input_layer,no_hidden_layers,size_hidden_layer,size_output_layer):\n",
    "    layer_dimensions = [size_input_layer] + [size_hidden_layer]*no_hidden_layers+ [size_output_layer]\n",
    "    return layer_dimensions"
   ]
  },
  {
   "cell_type": "code",
   "execution_count": 120,
   "metadata": {},
   "outputs": [
    {
     "data": {
      "text/plain": [
       "[784, 32, 32, 32, 10]"
      ]
     },
     "execution_count": 120,
     "metadata": {},
     "output_type": "execute_result"
    }
   ],
   "source": [
    "layer_dimensions = get_layer_dims(size_input_layer,no_hidden_layers,size_hidden_layer,size_output_layer)\n",
    "layer_dimensions"
   ]
  },
  {
   "cell_type": "raw",
   "metadata": {
    "id": "mulQnXJVVjH8"
   },
   "source": [
    "sweep_config = {\n",
    "    \"method\": \"grid\",\n",
    "    \"metric\": {\n",
    "        \"name\": \"accuracy\",\n",
    "        \"goal\": \"maximize\"\n",
    "    },\n",
    "    \"parameters\": {\n",
    "        \"epochs\": {\n",
    "            \"values\": [5,10]\n",
    "        },\n",
    "        \"batch_size\": {\n",
    "            \"values\": [16,34,64]\n",
    "        },\n",
    "        \"learning_rate\": {\n",
    "            \"values\": [1e-3,1e-4]\n",
    "        },\n",
    "        \"number of hidden layers\": {\n",
    "            \"values\": [3,4,5]\n",
    "        },\n",
    "        \"size of every hidden layer\": {\n",
    "            \"values\": [32,64,128]\n",
    "        },\n",
    "        \"optimizer\": {\n",
    "            \"values\": [\"Momentum\",\"NAG\",\"RMSPrpp\", \"Adam\",\"Nadam\"]\n",
    "        },\n",
    "        \"activation functions\": {\n",
    "            \"values\": [\"sigmoid\",\"tanh\"]\n",
    "        }    \n",
    "        \n",
    "    }\n",
    "}"
   ]
  },
  {
   "cell_type": "raw",
   "metadata": {
    "id": "KhJTbEMEVjH9"
   },
   "source": [
    "sweep_config = {\n",
    "    'method': 'grid',\n",
    "    'parameters': {\n",
    "        'epochs': {\n",
    "            'values': [5,10,15]\n",
    "        },\n",
    "        'learning_rate': {\n",
    "            'values': [1e-2,1e-3]\n",
    "        }\n",
    "    }\n",
    "}"
   ]
  },
  {
   "cell_type": "raw",
   "metadata": {
    "colab": {
     "base_uri": "https://localhost:8080/"
    },
    "id": "fOQi6uLpVjH-",
    "outputId": "6550029d-67bf-4e48-e705-f0fec6479a2a"
   },
   "source": [
    "import wandb\n",
    "sweep_id = wandb.sweep(sweep_config)"
   ]
  },
  {
   "cell_type": "code",
   "execution_count": 38,
   "metadata": {
    "colab": {
     "base_uri": "https://localhost:8080/"
    },
    "id": "fmUVq83oWq3c",
    "outputId": "252bea7f-f653-406f-e39a-c774ec3ccccf"
   },
   "outputs": [
    {
     "data": {
      "text/plain": [
       "(784, 1000)"
      ]
     },
     "execution_count": 38,
     "metadata": {},
     "output_type": "execute_result"
    }
   ],
   "source": [
    "x_test.T.shape"
   ]
  },
  {
   "cell_type": "code",
   "execution_count": 39,
   "metadata": {
    "id": "Bilbm2XYWqmC"
   },
   "outputs": [],
   "source": [
    "def get_train_and_validation_loss(x_train,y_train,x_valid,y_valid, parameters):\n",
    "    xt = x_train.T\n",
    "    yt = y_train.T\n",
    "    \n",
    "    xv = x_valid.T\n",
    "    yv = y_valid.T\n",
    "\n",
    "    yhatt, tempst = forward_pass(xt, parameters)\n",
    "    train_loss = cost_function(yhatt, yt)\n",
    "\n",
    "    yhatv, tempsv = forward_pass(xv, parameters)\n",
    "    valid_loss = cost_function(yhatv, yv)\n",
    "\n",
    "    return train_loss,valid_loss\n",
    "    \n"
   ]
  },
  {
   "cell_type": "code",
   "execution_count": 83,
   "metadata": {},
   "outputs": [],
   "source": [
    "def sgd(x_train, y_train,x_valid,y_valid,layer_dimensions,learning_rate,num_epochs):\n",
    "    \n",
    "    #np.random.seed(1)\n",
    "              \n",
    "    parameters = initialize_parameters(layer_dimensions)\n",
    "    batch_size = 1\n",
    "    total_examples = x_train.shape[0]\n",
    "    num_steps = total_examples//batch_size\n",
    "    #print(num_steps)\n",
    "    costs = []\n",
    "    for i in range(0, num_epochs):\n",
    "        #print(\"***********epoch = \",i)\n",
    "        #par_update = 0\n",
    "        for j in range(num_steps):\n",
    "            \n",
    "            start = j*batch_size\n",
    "            end = start+batch_size\n",
    "            x = x_train[start:end].T\n",
    "            y = y_train[start:end].T \n",
    "            \n",
    "            yhat, temps = forward_pass(x, parameters)\n",
    "            #cost = cost_function(yhat, y)\n",
    "            grads = backward_pass(yhat,y,temps)\n",
    "            parameters = parameter_update_vanilla(parameters, grads,learning_rate)\n",
    "                \n",
    "            \n",
    "        train_loss,valid_loss = get_train_and_validation_loss(x_train,y_train,x_valid,y_valid, parameters)\n",
    "         \n",
    "        train_acc= predict(x_train, y_train, parameters)\n",
    "\n",
    "        valid_acc= predict(x_valid, y_valid, parameters)\n",
    "\n",
    "        #wandb.log({\"train_loss\":train_loss,\"val_loss\":valid_loss,\"train_accuracy\":train_acc,\"val_accuracy\":valid_acc,\"epochs\":num_epochs})\n",
    "        print(\"train_acc\",train_acc)\n",
    "        print(\"valid_acc\",valid_acc)\n",
    "    \n",
    "        print(\"train_loss\",train_loss)\n",
    "        print(\"valid_loss\",valid_loss) \n",
    "\n",
    "    return parameters,train_loss,valid_loss,train_acc,valid_acc"
   ]
  },
  {
   "cell_type": "code",
   "execution_count": 84,
   "metadata": {},
   "outputs": [
    {
     "name": "stdout",
     "output_type": "stream",
     "text": [
      "train_acc 0.2102\n",
      "valid_acc 0.095\n",
      "train_loss 3.8028444269271757\n",
      "valid_loss 4.53001423331665\n",
      "train_acc 0.3334\n",
      "valid_acc 0.092\n",
      "train_loss 2.1194293617728714\n",
      "valid_loss 3.188737463358315\n",
      "train_acc 0.4476\n",
      "valid_acc 0.085\n",
      "train_loss 1.707313146759275\n",
      "valid_loss 3.1182912747231675\n",
      "train_acc 0.5108\n",
      "valid_acc 0.091\n",
      "train_loss 1.4944132804423285\n",
      "valid_loss 3.2071194102896503\n"
     ]
    }
   ],
   "source": [
    "parameters,train_loss,valid_loss,train_acc,valid_acc = sgd(x_train, y_train,x_test,y_test,layer_dimensions,0.001,4)"
   ]
  },
  {
   "cell_type": "code",
   "execution_count": 79,
   "metadata": {},
   "outputs": [],
   "source": [
    "def momentum(x_train, y_train,x_valid,y_valid,layer_dimensions,learning_rate,num_epochs,gamma = 0.9,  \n",
    "                    batch_type =\"Min_batch\",batch_size = 16):\n",
    "\n",
    "    #np.random.seed(1)  \n",
    "    \n",
    "    parameters = initialize_parameters(layer_dimensions)\n",
    "    update = initialize_update(layer_dimensions)\n",
    "\n",
    "    if batch_type == \"SGD\":\n",
    "        batch_size =1\n",
    "    elif batch_type ==  \"Mini_batch\":\n",
    "        batch_size = batch_size\n",
    "    elif batch_type == \"Full_batch\":\n",
    "        batch_size = x_train.shape[0]\n",
    "        \n",
    "    total_examples = x_train.shape[0]\n",
    "    num_steps = total_examples//batch_size\n",
    "    #print(num_steps)\n",
    "    costs = []\n",
    "    for i in range(0, num_epochs):\n",
    "        #print(\"***********epoch = \",i)\n",
    "        par_update = 0\n",
    "        for j in range(num_steps):\n",
    "            \n",
    "            start = j*batch_size\n",
    "            end = start+batch_size\n",
    "            x = x_train[start:end].T\n",
    "            y = y_train[start:end].T\n",
    "                \n",
    "            yhat, temps = forward_pass(x, parameters)\n",
    "            #cost = cost_function(yhat, y)\n",
    "            grads = backward_pass(yhat,y,temps)   \n",
    "            parameters,update = parameter_update_momentum(parameters, grads, update, learning_rate ,gamma)\n",
    "                \n",
    "            \n",
    "        train_loss,valid_loss = get_train_and_validation_loss(x_train,y_train,x_valid,y_valid, parameters)\n",
    "         \n",
    "        train_acc= predict(x_train, y_train, parameters)\n",
    "\n",
    "        valid_acc= predict(x_valid, y_valid, parameters)\n",
    "\n",
    "        #wandb.log({\"train_loss\":train_loss,\"val_loss\":valid_loss,\"train_accuracy\":train_acc,\"val_accuracy\":valid_acc,\"epochs\":num_epochs})\n",
    "\n",
    "#         print(\"train_acc\",train_acc)\n",
    "#         print(\"valid_acc\",valid_acc)\n",
    "    \n",
    "#         print(\"train_loss\",train_loss)\n",
    "#         print(\"valid_loss\",valid_loss) \n",
    "\n",
    "     \n",
    "    \n",
    "    return parameters,train_loss,valid_loss,train_acc,valid_acc"
   ]
  },
  {
   "cell_type": "code",
   "execution_count": 80,
   "metadata": {},
   "outputs": [
    {
     "name": "stdout",
     "output_type": "stream",
     "text": [
      "train_acc 0.1356\n",
      "valid_acc 0.057\n",
      "train_loss 6.5024940389836985\n",
      "valid_loss 6.745959532936545\n",
      "train_acc 0.2438\n",
      "valid_acc 0.084\n",
      "train_loss 4.547525776683534\n",
      "valid_loss 5.124292319637778\n",
      "train_acc 0.3574\n",
      "valid_acc 0.092\n",
      "train_loss 3.2805578131815913\n",
      "valid_loss 4.1286997867509045\n",
      "train_acc 0.396\n",
      "valid_acc 0.088\n",
      "train_loss 2.4467876601497345\n",
      "valid_loss 3.5230442325893057\n"
     ]
    }
   ],
   "source": [
    "parameters,train_loss,valid_loss,train_acc,valid_acc = momentum(x_train, y_train,x_test,y_test,layer_dimensions,0.001,4,batch_size = 16)"
   ]
  },
  {
   "cell_type": "code",
   "execution_count": 77,
   "metadata": {},
   "outputs": [],
   "source": [
    "def nesterov(x_train, y_train,x_valid,y_valid,layer_dimensions,learning_rate,num_epochs,gamma = 0.9,  \n",
    "                    batch_type =\"Min_batch\",batch_size = 16):\n",
    "    \n",
    "\n",
    "    #np.random.seed(1)         \n",
    "    \n",
    "    parameters = initialize_parameters(layer_dimensions)\n",
    "    update = initialize_update(layer_dimensions)\n",
    "    \n",
    "    if batch_type == \"SGD\":\n",
    "        batch_size =1\n",
    "    elif batch_type ==  \"Mini_batch\":\n",
    "        batch_size = batch_size\n",
    "    elif batch_type == \"Full_batch\":\n",
    "        batch_size = x_train.shape[0]\n",
    "        \n",
    "    total_examples = x_train.shape[0]\n",
    "    num_steps = total_examples//batch_size\n",
    "    #print(num_steps)\n",
    "    costs = []\n",
    "    for i in range(0, num_epochs):\n",
    "        #print(\"***********epoch = \",i)\n",
    "        par_update = 0\n",
    "        for j in range(num_steps):\n",
    "            \n",
    "            start = j*batch_size\n",
    "            end = start+batch_size\n",
    "            x = x_train[start:end].T\n",
    "            y = y_train[start:end].T \n",
    "            \n",
    "            lookahead_parameters = find_lookahead_parameters(parameters,update,gamma)\n",
    "            #print(\"lookahead_parameters\",lookahead_parameters)\n",
    "            yhat, temps = forward_pass(x, lookahead_parameters)\n",
    "            #cost = cost_function(yhat, y)\n",
    "            grads = backward_pass(yhat,y,temps)\n",
    "            parameters,update = parameter_update_momentum(parameters, grads, update, learning_rate ,gamma)\n",
    "                \n",
    "            \n",
    "        train_loss,valid_loss = get_train_and_validation_loss(x_train,y_train,x_valid,y_valid, parameters)\n",
    "         \n",
    "\n",
    "        train_acc= predict(x_train, y_train, parameters)\n",
    "\n",
    "        valid_acc= predict(x_valid, y_valid, parameters)\n",
    "\n",
    "        #wandb.log({\"train_loss\":train_loss,\"val_loss\":valid_loss,\"train_accuracy\":train_acc,\"val_accuracy\":valid_acc,\"epochs\":num_epochs})\n",
    "\n",
    "#         print(\"train_acc\",train_acc)\n",
    "#         print(\"valid_acc\",valid_acc)\n",
    "    \n",
    "#         print(\"train_loss\",train_loss)\n",
    "#         print(\"valid_loss\",valid_loss) \n",
    "\n",
    "    return parameters,train_loss,valid_loss,train_acc,valid_acc"
   ]
  },
  {
   "cell_type": "code",
   "execution_count": 78,
   "metadata": {},
   "outputs": [
    {
     "name": "stdout",
     "output_type": "stream",
     "text": [
      "train_acc 0.0312\n",
      "valid_acc 0.03\n",
      "train_loss 7.908866500589115\n",
      "valid_loss 8.039728219620974\n",
      "train_acc 0.127\n",
      "valid_acc 0.083\n",
      "train_loss 5.710033953332255\n",
      "valid_loss 5.959140004484729\n",
      "train_acc 0.193\n",
      "valid_acc 0.088\n",
      "train_loss 4.310694586395852\n",
      "valid_loss 4.658753508757357\n",
      "train_acc 0.2508\n",
      "valid_acc 0.099\n",
      "train_loss 3.455993144650091\n",
      "valid_loss 3.8888236813293564\n"
     ]
    }
   ],
   "source": [
    "parameters,train_loss,valid_loss,train_acc,valid_acc = nesterov(x_train, y_train,x_test,y_test,layer_dimensions,0.001,4,batch_size = 32)"
   ]
  },
  {
   "cell_type": "code",
   "execution_count": 73,
   "metadata": {},
   "outputs": [],
   "source": [
    "def rmsprop(x_train, y_train,x_valid,y_valid,layer_dimensions,learning_rate,num_epochs,batch_type =\"Mini_batch\",\n",
    "            batch_size = 16,beta_rms = 0.9,eps = 1e-8):\n",
    "    \n",
    "\n",
    "    #np.random.seed(1)             \n",
    "    \n",
    "    parameters = initialize_parameters(layer_dimensions)\n",
    "    velocity = initialize_velocity(layer_dimensions)\n",
    "\n",
    "    if batch_type == \"SGD\":\n",
    "        batch_size =1\n",
    "    elif batch_type ==  \"Mini_batch\":\n",
    "        batch_size = batch_size\n",
    "    elif batch_type == \"Full_batch\":\n",
    "        batch_size = x_train.shape[0]\n",
    "        \n",
    "    total_examples = x_train.shape[0]\n",
    "    num_steps = total_examples//batch_size\n",
    "    #print(num_steps)\n",
    "    costs = []\n",
    "    for i in range(0, num_epochs):\n",
    "        #print(\"***********epoch = \",i)\n",
    "        #par_update = 0\n",
    "        for j in range(num_steps):\n",
    "            \n",
    "            start = j*batch_size\n",
    "            end = start+batch_size\n",
    "            x = x_train[start:end].T\n",
    "            y = y_train[start:end].T    \n",
    "           \n",
    "            yhat, temps = forward_pass(x, parameters)\n",
    "            #cost = cost_function(yhat, y)\n",
    "            grads = backward_pass(yhat,y,temps)\n",
    "            parameters,velocity= parameter_update_RMSProp(parameters, grads, velocity,learning_rate ,beta_rms,eps)\n",
    "            #print(\"velocity\",velocity)\n",
    "                \n",
    "        train_loss,valid_loss = get_train_and_validation_loss(x_train,y_train,x_valid,y_valid, parameters)\n",
    "         \n",
    "\n",
    "        train_acc= predict(x_train, y_train, parameters)\n",
    "\n",
    "        valid_acc= predict(x_valid, y_valid, parameters)\n",
    "\n",
    "        #wandb.log({\"train_loss\":train_loss,\"val_loss\":valid_loss,\"train_accuracy\":train_acc,\"val_accuracy\":valid_acc,\"epochs\":num_epochs})\n",
    "\n",
    "#         print(\"train_acc\",train_acc)\n",
    "#         print(\"valid_acc\",valid_acc)\n",
    "    \n",
    "#         print(\"train_loss\",train_loss)\n",
    "#         print(\"valid_loss\",valid_loss) \n",
    "\n",
    "\n",
    "    return parameters,train_loss,valid_loss,train_acc,valid_acc"
   ]
  },
  {
   "cell_type": "code",
   "execution_count": 74,
   "metadata": {},
   "outputs": [
    {
     "name": "stdout",
     "output_type": "stream",
     "text": [
      "***********epoch =  0\n",
      "train_acc 0.4552\n",
      "valid_acc 0.092\n",
      "train_loss 2.1806356855477973\n",
      "valid_loss 4.551088210564466\n",
      "***********epoch =  1\n",
      "train_acc 0.6626\n",
      "valid_acc 0.103\n",
      "train_loss 0.9542825603737598\n",
      "valid_loss 4.18164909509122\n",
      "***********epoch =  2\n",
      "train_acc 0.7282\n",
      "valid_acc 0.107\n",
      "train_loss 0.7868521448606678\n",
      "valid_loss 4.5805496712712905\n",
      "***********epoch =  3\n",
      "train_acc 0.7532\n",
      "valid_acc 0.104\n",
      "train_loss 0.7069154371636389\n",
      "valid_loss 4.893737027171547\n"
     ]
    }
   ],
   "source": [
    "parameters,train_loss,valid_loss,train_acc,valid_acc = rmsprop(x_train, y_train,x_test,y_test,layer_dimensions,0.001,4,batch_size = 16)"
   ]
  },
  {
   "cell_type": "code",
   "execution_count": 69,
   "metadata": {},
   "outputs": [],
   "source": [
    "def adam(x_train, y_train,x_valid,y_valid,layer_dimensions,learning_rate,num_epochs,batch_type =\"Mini_batch\",\n",
    "         batch_size = 16,beta1 = 0.9,beta2 = 0.999,eps = 1e-8):\n",
    "\n",
    "    #np.random.seed(1)\n",
    "            \n",
    "    parameters = initialize_parameters(layer_dimensions)\n",
    "    velocity = initialize_velocity(layer_dimensions)\n",
    "    moment = initialize_moment(layer_dimensions)\n",
    "\n",
    "    if batch_type == \"SGD\":\n",
    "        batch_size =1\n",
    "    elif batch_type ==  \"Mini_batch\":\n",
    "        batch_size = batch_size\n",
    "    elif batch_type == \"Full_batch\":\n",
    "        batch_size = x_train.shape[0]\n",
    "        \n",
    "    total_examples = x_train.shape[0]\n",
    "    num_steps = total_examples//batch_size\n",
    "    #print(num_steps)\n",
    "    costs = []\n",
    "    for i in range(0, num_epochs):\n",
    "        #print(\"***********epoch = \",i)\n",
    "        par_update = 0\n",
    "        for j in range(num_steps):\n",
    "            \n",
    "            start = j*batch_size\n",
    "            end = start+batch_size\n",
    "            x = x_train[start:end].T\n",
    "            y = y_train[start:end].T \n",
    "        \n",
    "            yhat, temps = forward_pass(x, parameters)\n",
    "            #cost = cost_function(yhat, y)\n",
    "            grads = backward_pass(yhat,y,temps)\n",
    "            parameters,velocity, moment = parameter_update_adam(parameters, grads, velocity, moment,\n",
    "                                                                    learning_rate ,beta1,beta2,eps,i)\n",
    "                \n",
    "        train_loss,valid_loss = get_train_and_validation_loss(x_train,y_train,x_valid,y_valid, parameters)\n",
    "        \n",
    "        train_acc= predict(x_train, y_train, parameters)\n",
    "\n",
    "        valid_acc= predict(x_valid, y_valid, parameters)\n",
    "\n",
    "        #wandb.log({\"train_loss\":train_loss,\"val_loss\":valid_loss,\"train_accuracy\":train_acc,\"val_accuracy\":valid_acc,\"epochs\":num_epochs})\n",
    "\n",
    "#         print(\"train_acc\",train_acc)\n",
    "#         print(\"valid_acc\",valid_acc)\n",
    "    \n",
    "#         print(\"train_loss\",train_loss)\n",
    "#         print(\"valid_loss\",valid_loss) \n",
    "\n",
    "    return parameters,train_loss,valid_loss,train_acc,valid_acc"
   ]
  },
  {
   "cell_type": "code",
   "execution_count": 70,
   "metadata": {},
   "outputs": [
    {
     "name": "stdout",
     "output_type": "stream",
     "text": [
      "train_acc 0.6394\n",
      "valid_acc 0.112\n",
      "train_loss 0.9117365078935252\n",
      "valid_loss 4.880382279524359\n",
      "train_acc 0.742\n",
      "valid_acc 0.106\n",
      "train_loss 0.6868949246897417\n",
      "valid_loss 5.415662902110358\n",
      "train_acc 0.7602\n",
      "valid_acc 0.108\n",
      "train_loss 0.628837826059322\n",
      "valid_loss 5.634467366096267\n",
      "train_acc 0.7738\n",
      "valid_acc 0.101\n",
      "train_loss 0.5884356956556227\n",
      "valid_loss 5.813887564313782\n"
     ]
    }
   ],
   "source": [
    "parameters,train_loss,valid_loss,train_acc,valid_acc = adam(x_train, y_train,x_test,y_test,layer_dimensions,0.001,4,batch_size = 16)"
   ]
  },
  {
   "cell_type": "code",
   "execution_count": 59,
   "metadata": {},
   "outputs": [],
   "source": [
    "def nadam(x_train, y_train,x_valid,y_valid,layer_dimensions,learning_rate,num_epochs,batch_type =\"Mini_batch\",\n",
    "          batch_size = 16,beta1 = 0.9,beta2 = 0.999,eps = 1e-8):\n",
    "\n",
    "    #np.random.seed(1)\n",
    "   \n",
    "    parameters = initialize_parameters(layer_dimensions)\n",
    "    velocity = initialize_velocity(layer_dimensions)\n",
    "    moment = initialize_moment(layer_dimensions)\n",
    "\n",
    "    if batch_type == \"SGD\":\n",
    "        batch_size =1\n",
    "    elif batch_type ==  \"Mini_batch\":\n",
    "        batch_size = batch_size\n",
    "    elif batch_type == \"Full_batch\":\n",
    "        batch_size = x_train.shape[0]\n",
    "        \n",
    "    total_examples = x_train.shape[0]\n",
    "    num_steps = total_examples//batch_size\n",
    "    #print(num_steps)\n",
    "    costs = []\n",
    "    for i in range(0, num_epochs):\n",
    "        #print(\"***********epoch = \",i)\n",
    "        par_update = 0\n",
    "        for j in range(num_steps):\n",
    "            \n",
    "            start = j*batch_size\n",
    "            end = start+batch_size\n",
    "            x = x_train[start:end].T\n",
    "            y = y_train[start:end].T\n",
    "            \n",
    "\n",
    "            yhat, temps = forward_pass(x, parameters)\n",
    "            #cost = cost_function(yhat, y)\n",
    "            grads = backward_pass(yhat,y,temps)\n",
    "            parameters,velocity, moment = parameter_update_nadam(parameters, grads, velocity, moment,learning_rate ,beta1,beta2,eps,i)\n",
    "              \n",
    "            \n",
    "        train_loss,valid_loss = get_train_and_validation_loss(x_train,y_train,x_valid,y_valid, parameters)\n",
    "         \n",
    "        train_acc= predict(x_train, y_train, parameters)\n",
    "\n",
    "        valid_acc= predict(x_valid, y_valid, parameters)\n",
    "\n",
    "        #wandb.log({\"train_loss\":train_loss,\"val_loss\":valid_loss,\"train_accuracy\":train_acc,\"val_accuracy\":valid_acc,\"epochs\":num_epochs})\n",
    "\n",
    "#         print(\"train_acc\",train_acc)\n",
    "#         print(\"valid_acc\",valid_acc)\n",
    "    \n",
    "#         print(\"train_loss\",train_loss)\n",
    "#         print(\"valid_loss\",valid_loss) \n",
    "\n",
    "    return parameters,train_loss,valid_loss,train_acc,valid_acc"
   ]
  },
  {
   "cell_type": "code",
   "execution_count": 60,
   "metadata": {},
   "outputs": [
    {
     "name": "stdout",
     "output_type": "stream",
     "text": [
      "***********epoch =  0\n",
      "train_acc 0.7182\n",
      "valid_acc 0.103\n",
      "train_loss 0.7588116583598381\n",
      "valid_loss 5.532759249684952\n",
      "***********epoch =  1\n",
      "train_acc 0.7532\n",
      "valid_acc 0.109\n",
      "train_loss 0.6719356324351495\n",
      "valid_loss 5.705713936570341\n",
      "***********epoch =  2\n",
      "train_acc 0.7708\n",
      "valid_acc 0.109\n",
      "train_loss 0.622007553933051\n",
      "valid_loss 5.8413296907360035\n",
      "***********epoch =  3\n",
      "train_acc 0.7756\n",
      "valid_acc 0.109\n",
      "train_loss 0.6013220210516357\n",
      "valid_loss 5.885931881999552\n"
     ]
    }
   ],
   "source": [
    "parameters,train_loss,valid_loss,train_acc,valid_acc = nadam(x_train, y_train,x_test,y_test,layer_dimensions,0.001,4,batch_size = 16)"
   ]
  },
  {
   "cell_type": "raw",
   "metadata": {
    "id": "tFIBmzk1LBoH"
   },
   "source": [
    "def L_layer_network(x_train, y_train,x_valid,y_valid,layer_dimensions,learning_rate,num_epochs,gamma = 0.9,  \n",
    "                    batch_type =\"Full_batch\",batchsize = 2,grad_descent_type = \"Vanilla\", beta_rms = 0.9, \n",
    "                    beta1 = 0.9,beta2 = 0.999,eps = 1e-8, print_cost=False):\n",
    "    \n",
    "    print(\"lr\", learning_rate)\n",
    "\n",
    "    #np.random.seed(1)\n",
    "              \n",
    "    \n",
    "    parameters = initialize_parameters(layer_dimensions)\n",
    "    update = initialize_update(layer_dimensions)\n",
    "    velocity = initialize_velocity(layer_dimensions)\n",
    "    moment = initialize_moment(layer_dimensions)\n",
    "\n",
    "    if batch_type == \"SGD\":\n",
    "        batchsize =1\n",
    "    elif batch_type ==  \"Mini_batch\":\n",
    "        batchsize = batchsize\n",
    "    elif batch_type == \"Full_batch\":\n",
    "        batchsize = x_train.shape[0]\n",
    "        \n",
    "    total_examples = x_train.shape[0]\n",
    "    num_steps = total_examples//batchsize\n",
    "    #print(num_steps)\n",
    "    costs = []\n",
    "    for i in range(0, num_epochs):\n",
    "        #print(\"***********epoch = \",i)\n",
    "        par_update = 0\n",
    "        for j in range(num_steps):\n",
    "            \n",
    "            start = j*batchsize\n",
    "            end = start+batchsize\n",
    "            x = x_train[start:end].T\n",
    "            y = y_train[start:end].T \n",
    "            \n",
    "            #print(\"param\",parameters)\n",
    "            #print(\"in update\",update)\n",
    "               \n",
    "            if grad_descent_type == \"Vanilla\":\n",
    "            \n",
    "                yhat, temps = forward_pass(x, parameters)\n",
    "                #cost = cost_function(yhat, y)\n",
    "                grads = backward_pass(yhat,y,temps)\n",
    "                parameters = parameter_update_vanilla(parameters, grads,learning_rate)\n",
    "                \n",
    "            elif grad_descent_type == \"Momentum\":\n",
    "                \n",
    "                yhat, temps = forward_pass(x, parameters)\n",
    "                #cost = cost_function(yhat, y)\n",
    "                grads = backward_pass(yhat,y,temps)\n",
    "                #print(\"in update\",update)\n",
    "                parameters,update = parameter_update_momentum(parameters, grads, update, learning_rate ,gamma)\n",
    "                #print(\"out update\",update)\n",
    "                \n",
    "            elif grad_descent_type == \"NAG\":\n",
    "                lookahead_parameters = find_lookahead_parameters(parameters,update,gamma)\n",
    "                #print(\"lookahead_parameters\",lookahead_parameters)\n",
    "                yhat, temps = forward_pass(x, lookahead_parameters)\n",
    "                #cost = cost_function(yhat, y)\n",
    "                grads = backward_pass(yhat,y,temps)\n",
    "                parameters,update = parameter_update_momentum(parameters, grads, update, learning_rate ,gamma)\n",
    "                \n",
    "            elif grad_descent_type == \"RMSProp\":\n",
    "                yhat, temps = forward_pass(x, parameters)\n",
    "                #cost = cost_function(yhat, y)\n",
    "                grads = backward_pass(yhat,y,temps)\n",
    "                parameters,velocity= parameter_update_RMSProp(parameters, grads, velocity,learning_rate ,beta_rms,eps)\n",
    "                #print(\"velocity\",velocity)\n",
    "                \n",
    "            elif grad_descent_type == \"Adam\":\n",
    "                yhat, temps = forward_pass(x, parameters)\n",
    "                #cost = cost_function(yhat, y)\n",
    "                grads = backward_pass(yhat,y,temps)\n",
    "                parameters,velocity, moment = parameter_update_adam(parameters, grads, velocity, moment,learning_rate ,beta1,beta2,eps,i)\n",
    "                #print(\"velocity\",velocity)\n",
    "\n",
    "            elif grad_descent_type == \"Nadam\":\n",
    "                yhat, temps = forward_pass(x, parameters)\n",
    "                #cost = cost_function(yhat, y)\n",
    "                grads = backward_pass(yhat,y,temps)\n",
    "                parameters,velocity, moment = parameter_update_nadam(parameters, grads, velocity, moment,learning_rate ,beta1,beta2,eps,i)\n",
    "                #print(\"velocity\",velocity)  \n",
    "            \n",
    "        train_loss,valid_loss = get_train_and_validation_loss(x_train,y_train,x_valid,y_valid, parameters)\n",
    "         \n",
    "\n",
    "        train_acc= predict(x_train, y_train, parameters)\n",
    "\n",
    "        valid_acc= predict(x_valid, y_valid, parameters)\n",
    "\n",
    "        wandb.log({\"train_loss\":train_loss,\"val_loss\":valid_loss,\"train_accuracy\":train_acc,\"val_accuracy\":valid_acc,\"epochs\":num_epochs})\n",
    "\n",
    "        print(\"train_acc\",train_acc)\n",
    "        print(\"valid_acc\",valid_acc)\n",
    "    \n",
    "        print(\"train_loss\",train_loss)\n",
    "        print(\"valid_loss\",valid_loss) \n",
    "\n",
    "        \n",
    "            #costs.append(cost)\n",
    "    # print(\"cost\",cost)\n",
    "    # # plot the cost\n",
    "    # plt.plot(np.squeeze(costs))\n",
    "    # plt.ylabel('cost')\n",
    "    # plt.xlabel('iterations (per hundreds)')\n",
    "    # plt.title(\"Learning rate =\" + str(learning_rate))\n",
    "    # plt.show()\n",
    "    \n",
    "    return parameters"
   ]
  },
  {
   "cell_type": "code",
   "execution_count": 235,
   "metadata": {
    "id": "Yf7cPh90zoKs"
   },
   "outputs": [],
   "source": []
  },
  {
   "cell_type": "code",
   "execution_count": 236,
   "metadata": {
    "id": "S4gK1XfLLBoI",
    "scrolled": false
   },
   "outputs": [],
   "source": [
    "#parameters = L_layer_network(x_train, y_train, layer_dimensions,0.001,5,grad_descent_type = \"Nadam\",print_cost = True)"
   ]
  },
  {
   "cell_type": "code",
   "execution_count": 237,
   "metadata": {
    "id": "xTsDaVVEco2c"
   },
   "outputs": [],
   "source": [
    "def train():\n",
    "    import numpy as np\n",
    "    import wandb\n",
    "    config_defaults = {\n",
    "        'epochs': 5\n",
    "    }\n",
    "    wandb.init(config=config_defaults, magic=True)\n",
    "\n",
    "\n",
    "    parameters = L_layer_network(x_train, y_train,x_test,y_test, layer_dimensions,0.001,num_epochs = wandb.config.epochs,grad_descent_type = \"Nadam\",print_cost = True)\n",
    "\n",
    "    # accuracy = predict(x_test, y_test, parameters)\n",
    "    # train_accu = accuracy = predict(x_train, y_train, parameters)\n",
    "    # print(\"train_accu\",train_accu)\n",
    "    # print(\"test_accu\",accuracy)\n",
    "    # wandb.log({\"metric\": accuracy})\n",
    "\n"
   ]
  },
  {
   "cell_type": "code",
   "execution_count": 238,
   "metadata": {
    "colab": {
     "base_uri": "https://localhost:8080/",
     "height": 1000,
     "referenced_widgets": [
      "28524d7826c4426492f4d0cc8180613e",
      "127aa75eca1644f6842d9ec1713253b0",
      "e86ff37d154d4985895878662082a7a7",
      "2bc0fb8ab0154bf5a9126924f784f6f6",
      "63965829d3974a188471c2ec70da70bd",
      "5eec22b31bd5451dbe2d05ac7e789c10",
      "0a9bdd0dcece46f493596d5bd3c4233b",
      "3e893a2a59b842fb9b1bbb42ced6194e",
      "6505b79dea37438d80704d7b8e507df8",
      "250aca5befb444e293e14ec6a2d46a48",
      "312e04dfeceb4a749eea8b47d06bf5f9",
      "454cc2956b3b4294b1d3630d8fecb02e",
      "66d27d90542f4c5a9a2d833fe139b4cf",
      "0eefe871b04b4b7eb44d49051ea48ccb",
      "32f15481f14647a8ab0585127054b31a",
      "7f3a06c047754c04b4f419bec2360bf7",
      "8283f985be024f9fb605e519ac048150",
      "b9165aa12e2d4d7c9eb678715d4cbc2d",
      "157d15a7603347ac817ab231fd98ddbe",
      "f3d687c8e9d04568a2184d0cfaec0fa1",
      "ca940e1d8bfe40acb48e921cd8f31cc0",
      "b5d63c3ea9b34c87bd1a996f6496178c",
      "ff98b3af807e4ab88b7637ab9476beaf",
      "4bc16b66da454640936d0ebbd21dd8bf",
      "13d5cbfbd4a94eb182cd3eba33edcf0c",
      "292c9523cfed4606986da8dc88af0b54",
      "deeef9b1614749b59356b8828d570ebf",
      "34a6caf0c5f544f6987f636e44d04174",
      "1dac7f5c114d4008b88bcdbca42c5db8",
      "b1cf8bd99be04f06ba9b8cb03bba89e3",
      "0b7b0f729b9643e8ae27ea7666648e2b",
      "38b0e57301fe44a09530de74adcda0bc",
      "088be2ceb1194075a34bf2c8e7bdbd67",
      "d77a3f4e0e3a4de08f3ef4900c424f3d",
      "6b5cbe5d40bd4b2dbd228e584914b254",
      "f2b5ff187cd644d79a87f310035f9829",
      "fce6b126b8b040b1b2428d3165da8c74",
      "2aeb4abb54de49518bf71f23f17f4417",
      "d239084c0b204887b4e53a914f05c6cd",
      "3bbc2e99e43f4ea2abac2a7badce0372",
      "35fe9f3171d7463d9c42056b371e99b2",
      "d1d1882532034664abc7e7e3db6c1eb5",
      "337e1d122c094761bb404154c937bc41",
      "4348a1ea392946348297c7422d367953",
      "9b45a7be00fd4ed7bd32cee9f0518641",
      "aec35242f8614d6197cd200022fe6c57",
      "a28b092f77ae43ec93e1ac11eae5c2fe",
      "13d138569a2640569c36f0a9fa57706c"
     ]
    },
    "id": "RLcYszQkeY3Z",
    "outputId": "0385c3ab-7685-42b6-af86-e334b6d59113"
   },
   "outputs": [
    {
     "name": "stderr",
     "output_type": "stream",
     "text": [
      "\u001b[34m\u001b[1mwandb\u001b[0m: Agent Starting Run: emcuevl1 with config:\n",
      "\u001b[34m\u001b[1mwandb\u001b[0m: \tepochs: 5\n",
      "\u001b[34m\u001b[1mwandb\u001b[0m: \tlearning_rate: 0.01\n"
     ]
    },
    {
     "data": {
      "text/html": [
       "\n",
       "                Tracking run with wandb version 0.10.22<br/>\n",
       "                Syncing run <strong style=\"color:#cdcd00\">wild-sweep-1</strong> to <a href=\"https://wandb.ai\" target=\"_blank\">Weights & Biases</a> <a href=\"https://docs.wandb.com/integrations/jupyter.html\" target=\"_blank\">(Documentation)</a>.<br/>\n",
       "                Project page: <a href=\"https://wandb.ai/rishi_m/uncategorized\" target=\"_blank\">https://wandb.ai/rishi_m/uncategorized</a><br/>\n",
       "                Sweep page: <a href=\"https://wandb.ai/rishi_m/uncategorized/sweeps/76ivharf\" target=\"_blank\">https://wandb.ai/rishi_m/uncategorized/sweeps/76ivharf</a><br/>\n",
       "Run page: <a href=\"https://wandb.ai/rishi_m/uncategorized/runs/emcuevl1\" target=\"_blank\">https://wandb.ai/rishi_m/uncategorized/runs/emcuevl1</a><br/>\n",
       "                Run data is saved locally in <code>/content/wandb/run-20210311_070124-emcuevl1</code><br/><br/>\n",
       "            "
      ],
      "text/plain": [
       "<IPython.core.display.HTML object>"
      ]
     },
     "metadata": {
      "tags": []
     },
     "output_type": "display_data"
    },
    {
     "name": "stdout",
     "output_type": "stream",
     "text": [
      "lr 0.001\n",
      "train_acc 0.0658\n",
      "valid_acc 0.07\n",
      "train_loss 8.014049489115243\n",
      "valid_loss 8.065007537372505\n",
      "train_acc 0.0084\n",
      "valid_acc 0.017\n",
      "train_loss 6.790457981108266\n",
      "valid_loss 6.960796105340185\n",
      "train_acc 0.0082\n",
      "valid_acc 0.014\n",
      "train_loss 6.087886177677672\n",
      "valid_loss 6.326531817923793\n",
      "train_acc 0.0448\n",
      "valid_acc 0.034\n",
      "train_loss 5.602337086030147\n",
      "valid_loss 5.899195748521462\n",
      "train_acc 0.1094\n",
      "valid_acc 0.088\n",
      "train_loss 5.222731535389936\n",
      "valid_loss 5.56774708841198\n"
     ]
    },
    {
     "data": {
      "text/html": [
       "<br/>Waiting for W&B process to finish, PID 2228<br/>Program ended successfully."
      ],
      "text/plain": [
       "<IPython.core.display.HTML object>"
      ]
     },
     "metadata": {
      "tags": []
     },
     "output_type": "display_data"
    },
    {
     "data": {
      "application/vnd.jupyter.widget-view+json": {
       "model_id": "28524d7826c4426492f4d0cc8180613e",
       "version_major": 2,
       "version_minor": 0
      },
      "text/plain": [
       "VBox(children=(Label(value=' 0.00MB of 0.00MB uploaded (0.00MB deduped)\\r'), FloatProgress(value=1.0, max=1.0)…"
      ]
     },
     "metadata": {
      "tags": []
     },
     "output_type": "display_data"
    },
    {
     "data": {
      "text/html": [
       "Find user logs for this run at: <code>/content/wandb/run-20210311_070124-emcuevl1/logs/debug.log</code>"
      ],
      "text/plain": [
       "<IPython.core.display.HTML object>"
      ]
     },
     "metadata": {
      "tags": []
     },
     "output_type": "display_data"
    },
    {
     "data": {
      "text/html": [
       "Find internal logs for this run at: <code>/content/wandb/run-20210311_070124-emcuevl1/logs/debug-internal.log</code>"
      ],
      "text/plain": [
       "<IPython.core.display.HTML object>"
      ]
     },
     "metadata": {
      "tags": []
     },
     "output_type": "display_data"
    },
    {
     "data": {
      "text/html": [
       "<h3>Run summary:</h3><br/><style>\n",
       "    table.wandb td:nth-child(1) { padding: 0 10px; text-align: right }\n",
       "    </style><table class=\"wandb\">\n",
       "<tr><td>train_loss</td><td>5.22273</td></tr><tr><td>val_loss</td><td>5.56775</td></tr><tr><td>train_accuracy</td><td>0.1094</td></tr><tr><td>val_accuracy</td><td>0.088</td></tr><tr><td>epochs</td><td>5</td></tr><tr><td>_runtime</td><td>9</td></tr><tr><td>_timestamp</td><td>1615446093</td></tr><tr><td>_step</td><td>4</td></tr></table>"
      ],
      "text/plain": [
       "<IPython.core.display.HTML object>"
      ]
     },
     "metadata": {
      "tags": []
     },
     "output_type": "display_data"
    },
    {
     "data": {
      "text/html": [
       "<h3>Run history:</h3><br/><style>\n",
       "    table.wandb td:nth-child(1) { padding: 0 10px; text-align: right }\n",
       "    </style><table class=\"wandb\">\n",
       "<tr><td>train_loss</td><td>█▅▃▂▁</td></tr><tr><td>val_loss</td><td>█▅▃▂▁</td></tr><tr><td>train_accuracy</td><td>▅▁▁▄█</td></tr><tr><td>val_accuracy</td><td>▆▁▁▃█</td></tr><tr><td>epochs</td><td>▁▁▁▁▁</td></tr><tr><td>_runtime</td><td>▁▂▄▅█</td></tr><tr><td>_timestamp</td><td>▁▂▄▅█</td></tr><tr><td>_step</td><td>▁▃▅▆█</td></tr></table><br/>"
      ],
      "text/plain": [
       "<IPython.core.display.HTML object>"
      ]
     },
     "metadata": {
      "tags": []
     },
     "output_type": "display_data"
    },
    {
     "data": {
      "text/html": [
       "Synced 5 W&B file(s), 0 media file(s), 0 artifact file(s) and 0 other file(s)"
      ],
      "text/plain": [
       "<IPython.core.display.HTML object>"
      ]
     },
     "metadata": {
      "tags": []
     },
     "output_type": "display_data"
    },
    {
     "data": {
      "text/html": [
       "\n",
       "                    <br/>Synced <strong style=\"color:#cdcd00\">wild-sweep-1</strong>: <a href=\"https://wandb.ai/rishi_m/uncategorized/runs/emcuevl1\" target=\"_blank\">https://wandb.ai/rishi_m/uncategorized/runs/emcuevl1</a><br/>\n",
       "                "
      ],
      "text/plain": [
       "<IPython.core.display.HTML object>"
      ]
     },
     "metadata": {
      "tags": []
     },
     "output_type": "display_data"
    },
    {
     "name": "stderr",
     "output_type": "stream",
     "text": [
      "\u001b[34m\u001b[1mwandb\u001b[0m: Agent Starting Run: 2sojj7gf with config:\n",
      "\u001b[34m\u001b[1mwandb\u001b[0m: \tepochs: 5\n",
      "\u001b[34m\u001b[1mwandb\u001b[0m: \tlearning_rate: 0.001\n"
     ]
    },
    {
     "data": {
      "text/html": [
       "\n",
       "                Tracking run with wandb version 0.10.22<br/>\n",
       "                Syncing run <strong style=\"color:#cdcd00\">azure-sweep-2</strong> to <a href=\"https://wandb.ai\" target=\"_blank\">Weights & Biases</a> <a href=\"https://docs.wandb.com/integrations/jupyter.html\" target=\"_blank\">(Documentation)</a>.<br/>\n",
       "                Project page: <a href=\"https://wandb.ai/rishi_m/uncategorized\" target=\"_blank\">https://wandb.ai/rishi_m/uncategorized</a><br/>\n",
       "                Sweep page: <a href=\"https://wandb.ai/rishi_m/uncategorized/sweeps/76ivharf\" target=\"_blank\">https://wandb.ai/rishi_m/uncategorized/sweeps/76ivharf</a><br/>\n",
       "Run page: <a href=\"https://wandb.ai/rishi_m/uncategorized/runs/2sojj7gf\" target=\"_blank\">https://wandb.ai/rishi_m/uncategorized/runs/2sojj7gf</a><br/>\n",
       "                Run data is saved locally in <code>/content/wandb/run-20210311_070141-2sojj7gf</code><br/><br/>\n",
       "            "
      ],
      "text/plain": [
       "<IPython.core.display.HTML object>"
      ]
     },
     "metadata": {
      "tags": []
     },
     "output_type": "display_data"
    },
    {
     "name": "stdout",
     "output_type": "stream",
     "text": [
      "lr 0.001\n",
      "train_acc 0.0\n",
      "valid_acc 0.0\n",
      "train_loss 10.543932199319897\n",
      "valid_loss 10.718200727035844\n",
      "train_acc 0.0\n",
      "valid_acc 0.0\n",
      "train_loss 8.979882154622578\n",
      "valid_loss 9.206671679886757\n",
      "train_acc 0.0\n",
      "valid_acc 0.0\n",
      "train_loss 8.029986859851807\n",
      "valid_loss 8.302931711282351\n",
      "train_acc 0.0762\n",
      "valid_acc 0.052\n",
      "train_loss 7.372025831835371\n",
      "valid_loss 7.693614822722848\n",
      "train_acc 0.0954\n",
      "valid_acc 0.063\n",
      "train_loss 6.844478835602165\n",
      "valid_loss 7.215963219127262\n"
     ]
    },
    {
     "data": {
      "text/html": [
       "<br/>Waiting for W&B process to finish, PID 2261<br/>Program ended successfully."
      ],
      "text/plain": [
       "<IPython.core.display.HTML object>"
      ]
     },
     "metadata": {
      "tags": []
     },
     "output_type": "display_data"
    },
    {
     "data": {
      "application/vnd.jupyter.widget-view+json": {
       "model_id": "6505b79dea37438d80704d7b8e507df8",
       "version_major": 2,
       "version_minor": 0
      },
      "text/plain": [
       "VBox(children=(Label(value=' 0.00MB of 0.00MB uploaded (0.00MB deduped)\\r'), FloatProgress(value=1.0, max=1.0)…"
      ]
     },
     "metadata": {
      "tags": []
     },
     "output_type": "display_data"
    },
    {
     "data": {
      "text/html": [
       "Find user logs for this run at: <code>/content/wandb/run-20210311_070141-2sojj7gf/logs/debug.log</code>"
      ],
      "text/plain": [
       "<IPython.core.display.HTML object>"
      ]
     },
     "metadata": {
      "tags": []
     },
     "output_type": "display_data"
    },
    {
     "data": {
      "text/html": [
       "Find internal logs for this run at: <code>/content/wandb/run-20210311_070141-2sojj7gf/logs/debug-internal.log</code>"
      ],
      "text/plain": [
       "<IPython.core.display.HTML object>"
      ]
     },
     "metadata": {
      "tags": []
     },
     "output_type": "display_data"
    },
    {
     "data": {
      "text/html": [
       "<h3>Run summary:</h3><br/><style>\n",
       "    table.wandb td:nth-child(1) { padding: 0 10px; text-align: right }\n",
       "    </style><table class=\"wandb\">\n",
       "<tr><td>train_loss</td><td>6.84448</td></tr><tr><td>val_loss</td><td>7.21596</td></tr><tr><td>train_accuracy</td><td>0.0954</td></tr><tr><td>val_accuracy</td><td>0.063</td></tr><tr><td>epochs</td><td>5</td></tr><tr><td>_runtime</td><td>9</td></tr><tr><td>_timestamp</td><td>1615446110</td></tr><tr><td>_step</td><td>4</td></tr></table>"
      ],
      "text/plain": [
       "<IPython.core.display.HTML object>"
      ]
     },
     "metadata": {
      "tags": []
     },
     "output_type": "display_data"
    },
    {
     "data": {
      "text/html": [
       "<h3>Run history:</h3><br/><style>\n",
       "    table.wandb td:nth-child(1) { padding: 0 10px; text-align: right }\n",
       "    </style><table class=\"wandb\">\n",
       "<tr><td>train_loss</td><td>█▅▃▂▁</td></tr><tr><td>val_loss</td><td>█▅▃▂▁</td></tr><tr><td>train_accuracy</td><td>▁▁▁▇█</td></tr><tr><td>val_accuracy</td><td>▁▁▁▇█</td></tr><tr><td>epochs</td><td>▁▁▁▁▁</td></tr><tr><td>_runtime</td><td>▁▂▅▇█</td></tr><tr><td>_timestamp</td><td>▁▂▅▇█</td></tr><tr><td>_step</td><td>▁▃▅▆█</td></tr></table><br/>"
      ],
      "text/plain": [
       "<IPython.core.display.HTML object>"
      ]
     },
     "metadata": {
      "tags": []
     },
     "output_type": "display_data"
    },
    {
     "data": {
      "text/html": [
       "Synced 5 W&B file(s), 0 media file(s), 0 artifact file(s) and 0 other file(s)"
      ],
      "text/plain": [
       "<IPython.core.display.HTML object>"
      ]
     },
     "metadata": {
      "tags": []
     },
     "output_type": "display_data"
    },
    {
     "data": {
      "text/html": [
       "\n",
       "                    <br/>Synced <strong style=\"color:#cdcd00\">azure-sweep-2</strong>: <a href=\"https://wandb.ai/rishi_m/uncategorized/runs/2sojj7gf\" target=\"_blank\">https://wandb.ai/rishi_m/uncategorized/runs/2sojj7gf</a><br/>\n",
       "                "
      ],
      "text/plain": [
       "<IPython.core.display.HTML object>"
      ]
     },
     "metadata": {
      "tags": []
     },
     "output_type": "display_data"
    },
    {
     "name": "stderr",
     "output_type": "stream",
     "text": [
      "\u001b[34m\u001b[1mwandb\u001b[0m: Agent Starting Run: nxf2cl6d with config:\n",
      "\u001b[34m\u001b[1mwandb\u001b[0m: \tepochs: 10\n",
      "\u001b[34m\u001b[1mwandb\u001b[0m: \tlearning_rate: 0.01\n"
     ]
    },
    {
     "data": {
      "text/html": [
       "\n",
       "                Tracking run with wandb version 0.10.22<br/>\n",
       "                Syncing run <strong style=\"color:#cdcd00\">elated-sweep-3</strong> to <a href=\"https://wandb.ai\" target=\"_blank\">Weights & Biases</a> <a href=\"https://docs.wandb.com/integrations/jupyter.html\" target=\"_blank\">(Documentation)</a>.<br/>\n",
       "                Project page: <a href=\"https://wandb.ai/rishi_m/uncategorized\" target=\"_blank\">https://wandb.ai/rishi_m/uncategorized</a><br/>\n",
       "                Sweep page: <a href=\"https://wandb.ai/rishi_m/uncategorized/sweeps/76ivharf\" target=\"_blank\">https://wandb.ai/rishi_m/uncategorized/sweeps/76ivharf</a><br/>\n",
       "Run page: <a href=\"https://wandb.ai/rishi_m/uncategorized/runs/nxf2cl6d\" target=\"_blank\">https://wandb.ai/rishi_m/uncategorized/runs/nxf2cl6d</a><br/>\n",
       "                Run data is saved locally in <code>/content/wandb/run-20210311_070157-nxf2cl6d</code><br/><br/>\n",
       "            "
      ],
      "text/plain": [
       "<IPython.core.display.HTML object>"
      ]
     },
     "metadata": {
      "tags": []
     },
     "output_type": "display_data"
    },
    {
     "name": "stdout",
     "output_type": "stream",
     "text": [
      "lr 0.001\n",
      "train_acc 0.0894\n",
      "valid_acc 0.095\n",
      "train_loss 8.875163595839194\n",
      "valid_loss 9.193899925557663\n",
      "train_acc 0.0898\n",
      "valid_acc 0.09\n",
      "train_loss 7.40693132992241\n",
      "valid_loss 7.896193394366308\n",
      "train_acc 0.0872\n",
      "valid_acc 0.079\n",
      "train_loss 6.446696294606317\n",
      "valid_loss 7.100006849038933\n",
      "train_acc 0.08\n",
      "valid_acc 0.071\n",
      "train_loss 5.734272432886347\n",
      "valid_loss 6.518898022836032\n",
      "train_acc 0.1024\n",
      "valid_acc 0.077\n",
      "train_loss 5.16391608310028\n",
      "valid_loss 6.04829603858233\n",
      "train_acc 0.1202\n",
      "valid_acc 0.086\n",
      "train_loss 4.693306614709044\n",
      "valid_loss 5.662984776714891\n",
      "train_acc 0.1818\n",
      "valid_acc 0.092\n",
      "train_loss 4.307344214925584\n",
      "valid_loss 5.362395729114272\n",
      "train_acc 0.2762\n",
      "valid_acc 0.092\n",
      "train_loss 3.999501000547501\n",
      "valid_loss 5.133093261510167\n",
      "train_acc 0.3246\n",
      "valid_acc 0.092\n",
      "train_loss 3.7514335294381054\n",
      "valid_loss 4.966589593467037\n",
      "train_acc 0.344\n",
      "valid_acc 0.094\n",
      "train_loss 3.5472035930260093\n",
      "valid_loss 4.838023014165415\n"
     ]
    },
    {
     "data": {
      "text/html": [
       "<br/>Waiting for W&B process to finish, PID 2296<br/>Program ended successfully."
      ],
      "text/plain": [
       "<IPython.core.display.HTML object>"
      ]
     },
     "metadata": {
      "tags": []
     },
     "output_type": "display_data"
    },
    {
     "data": {
      "application/vnd.jupyter.widget-view+json": {
       "model_id": "8283f985be024f9fb605e519ac048150",
       "version_major": 2,
       "version_minor": 0
      },
      "text/plain": [
       "VBox(children=(Label(value=' 0.00MB of 0.00MB uploaded (0.00MB deduped)\\r'), FloatProgress(value=1.0, max=1.0)…"
      ]
     },
     "metadata": {
      "tags": []
     },
     "output_type": "display_data"
    },
    {
     "data": {
      "text/html": [
       "Find user logs for this run at: <code>/content/wandb/run-20210311_070157-nxf2cl6d/logs/debug.log</code>"
      ],
      "text/plain": [
       "<IPython.core.display.HTML object>"
      ]
     },
     "metadata": {
      "tags": []
     },
     "output_type": "display_data"
    },
    {
     "data": {
      "text/html": [
       "Find internal logs for this run at: <code>/content/wandb/run-20210311_070157-nxf2cl6d/logs/debug-internal.log</code>"
      ],
      "text/plain": [
       "<IPython.core.display.HTML object>"
      ]
     },
     "metadata": {
      "tags": []
     },
     "output_type": "display_data"
    },
    {
     "data": {
      "text/html": [
       "<h3>Run summary:</h3><br/><style>\n",
       "    table.wandb td:nth-child(1) { padding: 0 10px; text-align: right }\n",
       "    </style><table class=\"wandb\">\n",
       "<tr><td>train_loss</td><td>3.5472</td></tr><tr><td>val_loss</td><td>4.83802</td></tr><tr><td>train_accuracy</td><td>0.344</td></tr><tr><td>val_accuracy</td><td>0.094</td></tr><tr><td>epochs</td><td>10</td></tr><tr><td>_runtime</td><td>15</td></tr><tr><td>_timestamp</td><td>1615446132</td></tr><tr><td>_step</td><td>9</td></tr></table>"
      ],
      "text/plain": [
       "<IPython.core.display.HTML object>"
      ]
     },
     "metadata": {
      "tags": []
     },
     "output_type": "display_data"
    },
    {
     "data": {
      "text/html": [
       "<h3>Run history:</h3><br/><style>\n",
       "    table.wandb td:nth-child(1) { padding: 0 10px; text-align: right }\n",
       "    </style><table class=\"wandb\">\n",
       "<tr><td>train_loss</td><td>█▆▅▄▃▃▂▂▁▁</td></tr><tr><td>val_loss</td><td>█▆▅▄▃▂▂▁▁▁</td></tr><tr><td>train_accuracy</td><td>▁▁▁▁▂▂▄▆▇█</td></tr><tr><td>val_accuracy</td><td>█▇▃▁▃▅▇▇▇█</td></tr><tr><td>epochs</td><td>▁▁▁▁▁▁▁▁▁▁</td></tr><tr><td>_runtime</td><td>▁▂▃▄▄▅▆▇▇█</td></tr><tr><td>_timestamp</td><td>▁▂▃▄▄▅▆▇▇█</td></tr><tr><td>_step</td><td>▁▂▃▃▄▅▆▆▇█</td></tr></table><br/>"
      ],
      "text/plain": [
       "<IPython.core.display.HTML object>"
      ]
     },
     "metadata": {
      "tags": []
     },
     "output_type": "display_data"
    },
    {
     "data": {
      "text/html": [
       "Synced 5 W&B file(s), 0 media file(s), 0 artifact file(s) and 0 other file(s)"
      ],
      "text/plain": [
       "<IPython.core.display.HTML object>"
      ]
     },
     "metadata": {
      "tags": []
     },
     "output_type": "display_data"
    },
    {
     "data": {
      "text/html": [
       "\n",
       "                    <br/>Synced <strong style=\"color:#cdcd00\">elated-sweep-3</strong>: <a href=\"https://wandb.ai/rishi_m/uncategorized/runs/nxf2cl6d\" target=\"_blank\">https://wandb.ai/rishi_m/uncategorized/runs/nxf2cl6d</a><br/>\n",
       "                "
      ],
      "text/plain": [
       "<IPython.core.display.HTML object>"
      ]
     },
     "metadata": {
      "tags": []
     },
     "output_type": "display_data"
    },
    {
     "name": "stderr",
     "output_type": "stream",
     "text": [
      "\u001b[34m\u001b[1mwandb\u001b[0m: Agent Starting Run: 0nnx7i16 with config:\n",
      "\u001b[34m\u001b[1mwandb\u001b[0m: \tepochs: 10\n",
      "\u001b[34m\u001b[1mwandb\u001b[0m: \tlearning_rate: 0.001\n"
     ]
    },
    {
     "data": {
      "text/html": [
       "\n",
       "                Tracking run with wandb version 0.10.22<br/>\n",
       "                Syncing run <strong style=\"color:#cdcd00\">polar-sweep-4</strong> to <a href=\"https://wandb.ai\" target=\"_blank\">Weights & Biases</a> <a href=\"https://docs.wandb.com/integrations/jupyter.html\" target=\"_blank\">(Documentation)</a>.<br/>\n",
       "                Project page: <a href=\"https://wandb.ai/rishi_m/uncategorized\" target=\"_blank\">https://wandb.ai/rishi_m/uncategorized</a><br/>\n",
       "                Sweep page: <a href=\"https://wandb.ai/rishi_m/uncategorized/sweeps/76ivharf\" target=\"_blank\">https://wandb.ai/rishi_m/uncategorized/sweeps/76ivharf</a><br/>\n",
       "Run page: <a href=\"https://wandb.ai/rishi_m/uncategorized/runs/0nnx7i16\" target=\"_blank\">https://wandb.ai/rishi_m/uncategorized/runs/0nnx7i16</a><br/>\n",
       "                Run data is saved locally in <code>/content/wandb/run-20210311_070219-0nnx7i16</code><br/><br/>\n",
       "            "
      ],
      "text/plain": [
       "<IPython.core.display.HTML object>"
      ]
     },
     "metadata": {
      "tags": []
     },
     "output_type": "display_data"
    },
    {
     "name": "stdout",
     "output_type": "stream",
     "text": [
      "lr 0.001\n",
      "train_acc 0.047\n",
      "valid_acc 0.045\n",
      "train_loss 6.637914699777414\n",
      "valid_loss 6.765216451687727\n",
      "train_acc 0.092\n",
      "valid_acc 0.096\n",
      "train_loss 5.669588925765528\n",
      "valid_loss 5.888498836137309\n",
      "train_acc 0.1512\n",
      "valid_acc 0.099\n",
      "train_loss 5.028438125224394\n",
      "valid_loss 5.3737688583333885\n",
      "train_acc 0.1758\n",
      "valid_acc 0.1\n",
      "train_loss 4.578445187604828\n",
      "valid_loss 5.008838112444187\n",
      "train_acc 0.1916\n",
      "valid_acc 0.093\n",
      "train_loss 4.226851066539303\n",
      "valid_loss 4.71733004182667\n",
      "train_acc 0.2264\n",
      "valid_acc 0.096\n",
      "train_loss 3.932345330673675\n",
      "valid_loss 4.470378560647238\n",
      "train_acc 0.2378\n",
      "valid_acc 0.095\n",
      "train_loss 3.677123660417081\n",
      "valid_loss 4.254626635529774\n",
      "train_acc 0.2416\n",
      "valid_acc 0.093\n",
      "train_loss 3.4513850621181303\n",
      "valid_loss 4.062834099710531\n",
      "train_acc 0.2466\n",
      "valid_acc 0.091\n",
      "train_loss 3.249565999863409\n",
      "valid_loss 3.8931527235169088\n",
      "train_acc 0.2732\n",
      "valid_acc 0.098\n",
      "train_loss 3.0687593217052274\n",
      "valid_loss 3.7445019711729515\n"
     ]
    },
    {
     "data": {
      "text/html": [
       "<br/>Waiting for W&B process to finish, PID 2331<br/>Program ended successfully."
      ],
      "text/plain": [
       "<IPython.core.display.HTML object>"
      ]
     },
     "metadata": {
      "tags": []
     },
     "output_type": "display_data"
    },
    {
     "data": {
      "application/vnd.jupyter.widget-view+json": {
       "model_id": "13d5cbfbd4a94eb182cd3eba33edcf0c",
       "version_major": 2,
       "version_minor": 0
      },
      "text/plain": [
       "VBox(children=(Label(value=' 0.00MB of 0.00MB uploaded (0.00MB deduped)\\r'), FloatProgress(value=1.0, max=1.0)…"
      ]
     },
     "metadata": {
      "tags": []
     },
     "output_type": "display_data"
    },
    {
     "data": {
      "text/html": [
       "Find user logs for this run at: <code>/content/wandb/run-20210311_070219-0nnx7i16/logs/debug.log</code>"
      ],
      "text/plain": [
       "<IPython.core.display.HTML object>"
      ]
     },
     "metadata": {
      "tags": []
     },
     "output_type": "display_data"
    },
    {
     "data": {
      "text/html": [
       "Find internal logs for this run at: <code>/content/wandb/run-20210311_070219-0nnx7i16/logs/debug-internal.log</code>"
      ],
      "text/plain": [
       "<IPython.core.display.HTML object>"
      ]
     },
     "metadata": {
      "tags": []
     },
     "output_type": "display_data"
    },
    {
     "data": {
      "text/html": [
       "<h3>Run summary:</h3><br/><style>\n",
       "    table.wandb td:nth-child(1) { padding: 0 10px; text-align: right }\n",
       "    </style><table class=\"wandb\">\n",
       "<tr><td>train_loss</td><td>3.06876</td></tr><tr><td>val_loss</td><td>3.7445</td></tr><tr><td>train_accuracy</td><td>0.2732</td></tr><tr><td>val_accuracy</td><td>0.098</td></tr><tr><td>epochs</td><td>10</td></tr><tr><td>_runtime</td><td>16</td></tr><tr><td>_timestamp</td><td>1615446155</td></tr><tr><td>_step</td><td>9</td></tr></table>"
      ],
      "text/plain": [
       "<IPython.core.display.HTML object>"
      ]
     },
     "metadata": {
      "tags": []
     },
     "output_type": "display_data"
    },
    {
     "data": {
      "text/html": [
       "<h3>Run history:</h3><br/><style>\n",
       "    table.wandb td:nth-child(1) { padding: 0 10px; text-align: right }\n",
       "    </style><table class=\"wandb\">\n",
       "<tr><td>train_loss</td><td>█▆▅▄▃▃▂▂▁▁</td></tr><tr><td>val_loss</td><td>█▆▅▄▃▃▂▂▁▁</td></tr><tr><td>train_accuracy</td><td>▁▂▄▅▅▇▇▇▇█</td></tr><tr><td>val_accuracy</td><td>▁▇██▇▇▇▇▇█</td></tr><tr><td>epochs</td><td>▁▁▁▁▁▁▁▁▁▁</td></tr><tr><td>_runtime</td><td>▁▂▃▃▄▅▆▆▇█</td></tr><tr><td>_timestamp</td><td>▁▂▃▃▄▅▆▆▇█</td></tr><tr><td>_step</td><td>▁▂▃▃▄▅▆▆▇█</td></tr></table><br/>"
      ],
      "text/plain": [
       "<IPython.core.display.HTML object>"
      ]
     },
     "metadata": {
      "tags": []
     },
     "output_type": "display_data"
    },
    {
     "data": {
      "text/html": [
       "Synced 5 W&B file(s), 0 media file(s), 0 artifact file(s) and 0 other file(s)"
      ],
      "text/plain": [
       "<IPython.core.display.HTML object>"
      ]
     },
     "metadata": {
      "tags": []
     },
     "output_type": "display_data"
    },
    {
     "data": {
      "text/html": [
       "\n",
       "                    <br/>Synced <strong style=\"color:#cdcd00\">polar-sweep-4</strong>: <a href=\"https://wandb.ai/rishi_m/uncategorized/runs/0nnx7i16\" target=\"_blank\">https://wandb.ai/rishi_m/uncategorized/runs/0nnx7i16</a><br/>\n",
       "                "
      ],
      "text/plain": [
       "<IPython.core.display.HTML object>"
      ]
     },
     "metadata": {
      "tags": []
     },
     "output_type": "display_data"
    },
    {
     "name": "stderr",
     "output_type": "stream",
     "text": [
      "\u001b[34m\u001b[1mwandb\u001b[0m: Agent Starting Run: ncx9mhy4 with config:\n",
      "\u001b[34m\u001b[1mwandb\u001b[0m: \tepochs: 15\n",
      "\u001b[34m\u001b[1mwandb\u001b[0m: \tlearning_rate: 0.01\n"
     ]
    },
    {
     "data": {
      "text/html": [
       "\n",
       "                Tracking run with wandb version 0.10.22<br/>\n",
       "                Syncing run <strong style=\"color:#cdcd00\">clear-sweep-5</strong> to <a href=\"https://wandb.ai\" target=\"_blank\">Weights & Biases</a> <a href=\"https://docs.wandb.com/integrations/jupyter.html\" target=\"_blank\">(Documentation)</a>.<br/>\n",
       "                Project page: <a href=\"https://wandb.ai/rishi_m/uncategorized\" target=\"_blank\">https://wandb.ai/rishi_m/uncategorized</a><br/>\n",
       "                Sweep page: <a href=\"https://wandb.ai/rishi_m/uncategorized/sweeps/76ivharf\" target=\"_blank\">https://wandb.ai/rishi_m/uncategorized/sweeps/76ivharf</a><br/>\n",
       "Run page: <a href=\"https://wandb.ai/rishi_m/uncategorized/runs/ncx9mhy4\" target=\"_blank\">https://wandb.ai/rishi_m/uncategorized/runs/ncx9mhy4</a><br/>\n",
       "                Run data is saved locally in <code>/content/wandb/run-20210311_070241-ncx9mhy4</code><br/><br/>\n",
       "            "
      ],
      "text/plain": [
       "<IPython.core.display.HTML object>"
      ]
     },
     "metadata": {
      "tags": []
     },
     "output_type": "display_data"
    },
    {
     "name": "stdout",
     "output_type": "stream",
     "text": [
      "lr 0.001\n",
      "train_acc 0.0\n",
      "valid_acc 0.001\n",
      "train_loss 7.549228449670281\n",
      "valid_loss 7.983953743680567\n",
      "train_acc 0.0118\n",
      "valid_acc 0.009\n",
      "train_loss 6.2263216179785354\n",
      "valid_loss 6.875233607655555\n",
      "train_acc 0.0306\n",
      "valid_acc 0.012\n",
      "train_loss 5.618536010498709\n",
      "valid_loss 6.243175216838216\n",
      "train_acc 0.058\n",
      "valid_acc 0.033\n",
      "train_loss 5.2615863438342\n",
      "valid_loss 5.916012374049484\n",
      "train_acc 0.1204\n",
      "valid_acc 0.06\n",
      "train_loss 4.996964253285584\n",
      "valid_loss 5.686989017639533\n",
      "train_acc 0.165\n",
      "valid_acc 0.068\n",
      "train_loss 4.775864485659197\n",
      "valid_loss 5.504493220085337\n",
      "train_acc 0.1916\n",
      "valid_acc 0.075\n",
      "train_loss 4.579756310184947\n",
      "valid_loss 5.352636532161066\n",
      "train_acc 0.21\n",
      "valid_acc 0.079\n",
      "train_loss 4.401100101121431\n",
      "valid_loss 5.222650398916747\n",
      "train_acc 0.224\n",
      "valid_acc 0.086\n",
      "train_loss 4.236637114362814\n",
      "valid_loss 5.108068952073165\n",
      "train_acc 0.2354\n",
      "valid_acc 0.089\n",
      "train_loss 4.084437049938498\n",
      "valid_loss 5.005160891565611\n",
      "train_acc 0.2488\n",
      "valid_acc 0.095\n",
      "train_loss 3.942345505095787\n",
      "valid_loss 4.91373411705423\n",
      "train_acc 0.257\n",
      "valid_acc 0.096\n",
      "train_loss 3.8083914335962956\n",
      "valid_loss 4.834220955597132\n",
      "train_acc 0.2618\n",
      "valid_acc 0.1\n",
      "train_loss 3.681294349277301\n",
      "valid_loss 4.766504686756986\n",
      "train_acc 0.2646\n",
      "valid_acc 0.102\n",
      "train_loss 3.55981377200438\n",
      "valid_loss 4.7101346302210585\n",
      "train_acc 0.2668\n",
      "valid_acc 0.098\n",
      "train_loss 3.4426222444570467\n",
      "valid_loss 4.665001504221045\n"
     ]
    },
    {
     "data": {
      "text/html": [
       "<br/>Waiting for W&B process to finish, PID 2366<br/>Program ended successfully."
      ],
      "text/plain": [
       "<IPython.core.display.HTML object>"
      ]
     },
     "metadata": {
      "tags": []
     },
     "output_type": "display_data"
    },
    {
     "data": {
      "application/vnd.jupyter.widget-view+json": {
       "model_id": "088be2ceb1194075a34bf2c8e7bdbd67",
       "version_major": 2,
       "version_minor": 0
      },
      "text/plain": [
       "VBox(children=(Label(value=' 0.00MB of 0.00MB uploaded (0.00MB deduped)\\r'), FloatProgress(value=1.0, max=1.0)…"
      ]
     },
     "metadata": {
      "tags": []
     },
     "output_type": "display_data"
    },
    {
     "data": {
      "text/html": [
       "Find user logs for this run at: <code>/content/wandb/run-20210311_070241-ncx9mhy4/logs/debug.log</code>"
      ],
      "text/plain": [
       "<IPython.core.display.HTML object>"
      ]
     },
     "metadata": {
      "tags": []
     },
     "output_type": "display_data"
    },
    {
     "data": {
      "text/html": [
       "Find internal logs for this run at: <code>/content/wandb/run-20210311_070241-ncx9mhy4/logs/debug-internal.log</code>"
      ],
      "text/plain": [
       "<IPython.core.display.HTML object>"
      ]
     },
     "metadata": {
      "tags": []
     },
     "output_type": "display_data"
    },
    {
     "data": {
      "text/html": [
       "<h3>Run summary:</h3><br/><style>\n",
       "    table.wandb td:nth-child(1) { padding: 0 10px; text-align: right }\n",
       "    </style><table class=\"wandb\">\n",
       "<tr><td>train_loss</td><td>3.44262</td></tr><tr><td>val_loss</td><td>4.665</td></tr><tr><td>train_accuracy</td><td>0.2668</td></tr><tr><td>val_accuracy</td><td>0.098</td></tr><tr><td>epochs</td><td>15</td></tr><tr><td>_runtime</td><td>22</td></tr><tr><td>_timestamp</td><td>1615446183</td></tr><tr><td>_step</td><td>14</td></tr></table>"
      ],
      "text/plain": [
       "<IPython.core.display.HTML object>"
      ]
     },
     "metadata": {
      "tags": []
     },
     "output_type": "display_data"
    },
    {
     "data": {
      "text/html": [
       "<h3>Run history:</h3><br/><style>\n",
       "    table.wandb td:nth-child(1) { padding: 0 10px; text-align: right }\n",
       "    </style><table class=\"wandb\">\n",
       "<tr><td>train_loss</td><td>█▆▅▄▄▃▃▃▂▂▂▂▁▁▁</td></tr><tr><td>val_loss</td><td>█▆▄▄▃▃▂▂▂▂▂▁▁▁▁</td></tr><tr><td>train_accuracy</td><td>▁▁▂▃▄▅▆▇▇▇█████</td></tr><tr><td>val_accuracy</td><td>▁▂▂▃▅▆▆▆▇▇█████</td></tr><tr><td>epochs</td><td>▁▁▁▁▁▁▁▁▁▁▁▁▁▁▁</td></tr><tr><td>_runtime</td><td>▁▁▂▂▃▃▄▄▅▆▆▆▇██</td></tr><tr><td>_timestamp</td><td>▁▁▂▂▃▃▄▄▅▆▆▆▇██</td></tr><tr><td>_step</td><td>▁▁▂▃▃▃▄▅▅▅▆▇▇▇█</td></tr></table><br/>"
      ],
      "text/plain": [
       "<IPython.core.display.HTML object>"
      ]
     },
     "metadata": {
      "tags": []
     },
     "output_type": "display_data"
    },
    {
     "data": {
      "text/html": [
       "Synced 5 W&B file(s), 0 media file(s), 0 artifact file(s) and 0 other file(s)"
      ],
      "text/plain": [
       "<IPython.core.display.HTML object>"
      ]
     },
     "metadata": {
      "tags": []
     },
     "output_type": "display_data"
    },
    {
     "data": {
      "text/html": [
       "\n",
       "                    <br/>Synced <strong style=\"color:#cdcd00\">clear-sweep-5</strong>: <a href=\"https://wandb.ai/rishi_m/uncategorized/runs/ncx9mhy4\" target=\"_blank\">https://wandb.ai/rishi_m/uncategorized/runs/ncx9mhy4</a><br/>\n",
       "                "
      ],
      "text/plain": [
       "<IPython.core.display.HTML object>"
      ]
     },
     "metadata": {
      "tags": []
     },
     "output_type": "display_data"
    },
    {
     "name": "stderr",
     "output_type": "stream",
     "text": [
      "\u001b[34m\u001b[1mwandb\u001b[0m: Agent Starting Run: tw7v2k7l with config:\n",
      "\u001b[34m\u001b[1mwandb\u001b[0m: \tepochs: 15\n",
      "\u001b[34m\u001b[1mwandb\u001b[0m: \tlearning_rate: 0.001\n"
     ]
    },
    {
     "data": {
      "text/html": [
       "\n",
       "                Tracking run with wandb version 0.10.22<br/>\n",
       "                Syncing run <strong style=\"color:#cdcd00\">easy-sweep-6</strong> to <a href=\"https://wandb.ai\" target=\"_blank\">Weights & Biases</a> <a href=\"https://docs.wandb.com/integrations/jupyter.html\" target=\"_blank\">(Documentation)</a>.<br/>\n",
       "                Project page: <a href=\"https://wandb.ai/rishi_m/uncategorized\" target=\"_blank\">https://wandb.ai/rishi_m/uncategorized</a><br/>\n",
       "                Sweep page: <a href=\"https://wandb.ai/rishi_m/uncategorized/sweeps/76ivharf\" target=\"_blank\">https://wandb.ai/rishi_m/uncategorized/sweeps/76ivharf</a><br/>\n",
       "Run page: <a href=\"https://wandb.ai/rishi_m/uncategorized/runs/tw7v2k7l\" target=\"_blank\">https://wandb.ai/rishi_m/uncategorized/runs/tw7v2k7l</a><br/>\n",
       "                Run data is saved locally in <code>/content/wandb/run-20210311_070310-tw7v2k7l</code><br/><br/>\n",
       "            "
      ],
      "text/plain": [
       "<IPython.core.display.HTML object>"
      ]
     },
     "metadata": {
      "tags": []
     },
     "output_type": "display_data"
    },
    {
     "name": "stdout",
     "output_type": "stream",
     "text": [
      "lr 0.001\n",
      "train_acc 0.0\n",
      "valid_acc 0.0\n",
      "train_loss 6.658841307944736\n",
      "valid_loss 6.976958060995641\n",
      "train_acc 0.0414\n",
      "valid_acc 0.036\n",
      "train_loss 5.355819783020832\n",
      "valid_loss 5.815707364287723\n",
      "train_acc 0.1008\n",
      "valid_acc 0.067\n",
      "train_loss 4.669548556739527\n",
      "valid_loss 5.24575272363556\n",
      "train_acc 0.1498\n",
      "valid_acc 0.07\n",
      "train_loss 4.191380406402284\n",
      "valid_loss 4.879539365557536\n",
      "train_acc 0.209\n",
      "valid_acc 0.082\n",
      "train_loss 3.8146215779136665\n",
      "valid_loss 4.614709420983794\n",
      "train_acc 0.2316\n",
      "valid_acc 0.093\n",
      "train_loss 3.506356402196527\n",
      "valid_loss 4.407972880328785\n",
      "train_acc 0.2742\n",
      "valid_acc 0.097\n",
      "train_loss 3.2483889781674833\n",
      "valid_loss 4.238258967369941\n",
      "train_acc 0.3172\n",
      "valid_acc 0.098\n",
      "train_loss 3.028057048505622\n",
      "valid_loss 4.095419244477963\n",
      "train_acc 0.3458\n",
      "valid_acc 0.1\n",
      "train_loss 2.837478151391276\n",
      "valid_loss 3.9741860727300966\n",
      "train_acc 0.366\n",
      "valid_acc 0.106\n",
      "train_loss 2.6717142221354795\n",
      "valid_loss 3.8710649455318538\n",
      "train_acc 0.392\n",
      "valid_acc 0.102\n",
      "train_loss 2.526875456044062\n",
      "valid_loss 3.7831571791877856\n",
      "train_acc 0.4244\n",
      "valid_acc 0.1\n",
      "train_loss 2.399583073707069\n",
      "valid_loss 3.7085536884848933\n",
      "train_acc 0.4384\n",
      "valid_acc 0.097\n",
      "train_loss 2.286792577892112\n",
      "valid_loss 3.645267129174521\n",
      "train_acc 0.4504\n",
      "valid_acc 0.099\n",
      "train_loss 2.1854960690310654\n",
      "valid_loss 3.590857015968864\n",
      "train_acc 0.459\n",
      "valid_acc 0.099\n",
      "train_loss 2.09321875670761\n",
      "valid_loss 3.5429617361490395\n"
     ]
    },
    {
     "data": {
      "text/html": [
       "<br/>Waiting for W&B process to finish, PID 2403<br/>Program ended successfully."
      ],
      "text/plain": [
       "<IPython.core.display.HTML object>"
      ]
     },
     "metadata": {
      "tags": []
     },
     "output_type": "display_data"
    },
    {
     "data": {
      "application/vnd.jupyter.widget-view+json": {
       "model_id": "35fe9f3171d7463d9c42056b371e99b2",
       "version_major": 2,
       "version_minor": 0
      },
      "text/plain": [
       "VBox(children=(Label(value=' 0.00MB of 0.00MB uploaded (0.00MB deduped)\\r'), FloatProgress(value=1.0, max=1.0)…"
      ]
     },
     "metadata": {
      "tags": []
     },
     "output_type": "display_data"
    },
    {
     "data": {
      "text/html": [
       "Find user logs for this run at: <code>/content/wandb/run-20210311_070310-tw7v2k7l/logs/debug.log</code>"
      ],
      "text/plain": [
       "<IPython.core.display.HTML object>"
      ]
     },
     "metadata": {
      "tags": []
     },
     "output_type": "display_data"
    },
    {
     "data": {
      "text/html": [
       "Find internal logs for this run at: <code>/content/wandb/run-20210311_070310-tw7v2k7l/logs/debug-internal.log</code>"
      ],
      "text/plain": [
       "<IPython.core.display.HTML object>"
      ]
     },
     "metadata": {
      "tags": []
     },
     "output_type": "display_data"
    },
    {
     "data": {
      "text/html": [
       "<h3>Run summary:</h3><br/><style>\n",
       "    table.wandb td:nth-child(1) { padding: 0 10px; text-align: right }\n",
       "    </style><table class=\"wandb\">\n",
       "<tr><td>train_loss</td><td>2.09322</td></tr><tr><td>val_loss</td><td>3.54296</td></tr><tr><td>train_accuracy</td><td>0.459</td></tr><tr><td>val_accuracy</td><td>0.099</td></tr><tr><td>epochs</td><td>15</td></tr><tr><td>_runtime</td><td>21</td></tr><tr><td>_timestamp</td><td>1615446211</td></tr><tr><td>_step</td><td>14</td></tr></table>"
      ],
      "text/plain": [
       "<IPython.core.display.HTML object>"
      ]
     },
     "metadata": {
      "tags": []
     },
     "output_type": "display_data"
    },
    {
     "data": {
      "text/html": [
       "<h3>Run history:</h3><br/><style>\n",
       "    table.wandb td:nth-child(1) { padding: 0 10px; text-align: right }\n",
       "    </style><table class=\"wandb\">\n",
       "<tr><td>train_loss</td><td>█▆▅▄▄▃▃▂▂▂▂▁▁▁▁</td></tr><tr><td>val_loss</td><td>█▆▄▄▃▃▂▂▂▂▁▁▁▁▁</td></tr><tr><td>train_accuracy</td><td>▁▂▃▃▄▅▅▆▆▇▇▇███</td></tr><tr><td>val_accuracy</td><td>▁▃▅▆▆▇▇▇████▇██</td></tr><tr><td>epochs</td><td>▁▁▁▁▁▁▁▁▁▁▁▁▁▁▁</td></tr><tr><td>_runtime</td><td>▁▁▂▃▃▃▄▅▅▆▆▇▇██</td></tr><tr><td>_timestamp</td><td>▁▁▂▃▃▃▄▅▅▆▆▇▇██</td></tr><tr><td>_step</td><td>▁▁▂▃▃▃▄▅▅▅▆▇▇▇█</td></tr></table><br/>"
      ],
      "text/plain": [
       "<IPython.core.display.HTML object>"
      ]
     },
     "metadata": {
      "tags": []
     },
     "output_type": "display_data"
    },
    {
     "data": {
      "text/html": [
       "Synced 5 W&B file(s), 0 media file(s), 0 artifact file(s) and 0 other file(s)"
      ],
      "text/plain": [
       "<IPython.core.display.HTML object>"
      ]
     },
     "metadata": {
      "tags": []
     },
     "output_type": "display_data"
    },
    {
     "data": {
      "text/html": [
       "\n",
       "                    <br/>Synced <strong style=\"color:#cdcd00\">easy-sweep-6</strong>: <a href=\"https://wandb.ai/rishi_m/uncategorized/runs/tw7v2k7l\" target=\"_blank\">https://wandb.ai/rishi_m/uncategorized/runs/tw7v2k7l</a><br/>\n",
       "                "
      ],
      "text/plain": [
       "<IPython.core.display.HTML object>"
      ]
     },
     "metadata": {
      "tags": []
     },
     "output_type": "display_data"
    },
    {
     "name": "stderr",
     "output_type": "stream",
     "text": [
      "\u001b[34m\u001b[1mwandb\u001b[0m: Sweep Agent: Waiting for job.\n",
      "\u001b[34m\u001b[1mwandb\u001b[0m: Sweep Agent: Exiting.\n"
     ]
    }
   ],
   "source": [
    "import wandb\n",
    "wandb.agent(sweep_id, function=train)"
   ]
  },
  {
   "cell_type": "code",
   "execution_count": 239,
   "metadata": {
    "colab": {
     "base_uri": "https://localhost:8080/",
     "height": 314
    },
    "id": "6ZaDOFXELBoI",
    "outputId": "306658a0-bedf-4170-8349-f5f4c2691930"
   },
   "outputs": [
    {
     "ename": "TypeError",
     "evalue": "ignored",
     "output_type": "error",
     "traceback": [
      "\u001b[0;31m---------------------------------------------------------------------------\u001b[0m",
      "\u001b[0;31mTypeError\u001b[0m                                 Traceback (most recent call last)",
      "\u001b[0;32m<ipython-input-239-8e2f79d11fcf>\u001b[0m in \u001b[0;36m<module>\u001b[0;34m()\u001b[0m\n\u001b[0;32m----> 1\u001b[0;31m \u001b[0mpredict\u001b[0m\u001b[0;34m(\u001b[0m\u001b[0mx_train\u001b[0m\u001b[0;34m,\u001b[0m \u001b[0my_train\u001b[0m\u001b[0;34m,\u001b[0m \u001b[0mparameters\u001b[0m\u001b[0;34m)\u001b[0m\u001b[0;34m\u001b[0m\u001b[0;34m\u001b[0m\u001b[0m\n\u001b[0m",
      "\u001b[0;32m<ipython-input-223-833cf64d78a8>\u001b[0m in \u001b[0;36mpredict\u001b[0;34m(x, y, parameters)\u001b[0m\n\u001b[1;32m      8\u001b[0m \u001b[0;34m\u001b[0m\u001b[0m\n\u001b[1;32m      9\u001b[0m     \u001b[0;31m# Forward propagation\u001b[0m\u001b[0;34m\u001b[0m\u001b[0;34m\u001b[0m\u001b[0;34m\u001b[0m\u001b[0m\n\u001b[0;32m---> 10\u001b[0;31m     \u001b[0mprob\u001b[0m\u001b[0;34m,\u001b[0m \u001b[0mtemps\u001b[0m \u001b[0;34m=\u001b[0m \u001b[0mforward_pass\u001b[0m\u001b[0;34m(\u001b[0m\u001b[0mx\u001b[0m\u001b[0;34m,\u001b[0m \u001b[0mparameters\u001b[0m\u001b[0;34m)\u001b[0m\u001b[0;34m\u001b[0m\u001b[0;34m\u001b[0m\u001b[0m\n\u001b[0m\u001b[1;32m     11\u001b[0m \u001b[0;34m\u001b[0m\u001b[0m\n\u001b[1;32m     12\u001b[0m \u001b[0;34m\u001b[0m\u001b[0m\n",
      "\u001b[0;32m<ipython-input-212-22c6fa3a86bb>\u001b[0m in \u001b[0;36mforward_pass\u001b[0;34m(x, parameters)\u001b[0m\n\u001b[1;32m     13\u001b[0m \u001b[0;34m\u001b[0m\u001b[0m\n\u001b[1;32m     14\u001b[0m \u001b[0;34m\u001b[0m\u001b[0m\n\u001b[0;32m---> 15\u001b[0;31m     \u001b[0mhL\u001b[0m\u001b[0;34m,\u001b[0m\u001b[0mtemp1\u001b[0m \u001b[0;34m=\u001b[0m \u001b[0mactivation_forward\u001b[0m\u001b[0;34m(\u001b[0m\u001b[0mh\u001b[0m\u001b[0;34m,\u001b[0m \u001b[0mparameters\u001b[0m\u001b[0;34m[\u001b[0m\u001b[0;34m'w'\u001b[0m\u001b[0;34m+\u001b[0m\u001b[0mstr\u001b[0m\u001b[0;34m(\u001b[0m\u001b[0mL\u001b[0m\u001b[0;34m)\u001b[0m\u001b[0;34m]\u001b[0m\u001b[0;34m,\u001b[0m \u001b[0mparameters\u001b[0m\u001b[0;34m[\u001b[0m\u001b[0;34m'b'\u001b[0m\u001b[0;34m+\u001b[0m\u001b[0mstr\u001b[0m\u001b[0;34m(\u001b[0m\u001b[0mL\u001b[0m\u001b[0;34m)\u001b[0m\u001b[0;34m]\u001b[0m\u001b[0;34m,\u001b[0m \u001b[0mactivation\u001b[0m\u001b[0;34m=\u001b[0m\u001b[0;34m\"softmax\"\u001b[0m\u001b[0;34m)\u001b[0m\u001b[0;34m\u001b[0m\u001b[0;34m\u001b[0m\u001b[0m\n\u001b[0m\u001b[1;32m     16\u001b[0m     \u001b[0mtemps\u001b[0m\u001b[0;34m.\u001b[0m\u001b[0mappend\u001b[0m\u001b[0;34m(\u001b[0m\u001b[0mtemp1\u001b[0m\u001b[0;34m)\u001b[0m\u001b[0;34m\u001b[0m\u001b[0;34m\u001b[0m\u001b[0m\n\u001b[1;32m     17\u001b[0m \u001b[0;34m\u001b[0m\u001b[0m\n",
      "\u001b[0;31mTypeError\u001b[0m: tuple indices must be integers or slices, not str"
     ]
    }
   ],
   "source": [
    "predict(x_train, y_train, parameters)"
   ]
  },
  {
   "cell_type": "code",
   "execution_count": null,
   "metadata": {
    "id": "Tg0V3J9RLBoJ"
   },
   "outputs": [],
   "source": [
    "predict(x_test,y_test,parameters)"
   ]
  },
  {
   "cell_type": "code",
   "execution_count": 121,
   "metadata": {
    "id": "GopICBHzLBoJ"
   },
   "outputs": [
    {
     "data": {
      "text/plain": [
       "array([[1, 2],\n",
       "       [3, 4]])"
      ]
     },
     "execution_count": 121,
     "metadata": {},
     "output_type": "execute_result"
    }
   ],
   "source": [
    "p = np.array([[1,2],[3,4]])\n",
    "p"
   ]
  },
  {
   "cell_type": "code",
   "execution_count": 124,
   "metadata": {},
   "outputs": [
    {
     "data": {
      "text/plain": [
       "6.0"
      ]
     },
     "execution_count": 124,
     "metadata": {},
     "output_type": "execute_result"
    }
   ],
   "source": [
    "np.linalg.norm(p,ord = 1)"
   ]
  },
  {
   "cell_type": "code",
   "execution_count": null,
   "metadata": {},
   "outputs": [],
   "source": []
  }
 ],
 "metadata": {
  "colab": {
   "collapsed_sections": [],
   "name": "Q3A1_final_working_actual_data.ipynb",
   "provenance": []
  },
  "kernelspec": {
   "display_name": "Python 3",
   "language": "python",
   "name": "python3"
  },
  "language_info": {
   "codemirror_mode": {
    "name": "ipython",
    "version": 3
   },
   "file_extension": ".py",
   "mimetype": "text/x-python",
   "name": "python",
   "nbconvert_exporter": "python",
   "pygments_lexer": "ipython3",
   "version": "3.6.9"
  },
  "widgets": {
   "application/vnd.jupyter.widget-state+json": {
    "088be2ceb1194075a34bf2c8e7bdbd67": {
     "model_module": "@jupyter-widgets/controls",
     "model_name": "VBoxModel",
     "state": {
      "_dom_classes": [],
      "_model_module": "@jupyter-widgets/controls",
      "_model_module_version": "1.5.0",
      "_model_name": "VBoxModel",
      "_view_count": null,
      "_view_module": "@jupyter-widgets/controls",
      "_view_module_version": "1.5.0",
      "_view_name": "VBoxView",
      "box_style": "",
      "children": [
       "IPY_MODEL_6b5cbe5d40bd4b2dbd228e584914b254",
       "IPY_MODEL_f2b5ff187cd644d79a87f310035f9829"
      ],
      "layout": "IPY_MODEL_d77a3f4e0e3a4de08f3ef4900c424f3d"
     }
    },
    "0a9bdd0dcece46f493596d5bd3c4233b": {
     "model_module": "@jupyter-widgets/controls",
     "model_name": "ProgressStyleModel",
     "state": {
      "_model_module": "@jupyter-widgets/controls",
      "_model_module_version": "1.5.0",
      "_model_name": "ProgressStyleModel",
      "_view_count": null,
      "_view_module": "@jupyter-widgets/base",
      "_view_module_version": "1.2.0",
      "_view_name": "StyleView",
      "bar_color": null,
      "description_width": ""
     }
    },
    "0b7b0f729b9643e8ae27ea7666648e2b": {
     "model_module": "@jupyter-widgets/controls",
     "model_name": "ProgressStyleModel",
     "state": {
      "_model_module": "@jupyter-widgets/controls",
      "_model_module_version": "1.5.0",
      "_model_name": "ProgressStyleModel",
      "_view_count": null,
      "_view_module": "@jupyter-widgets/base",
      "_view_module_version": "1.2.0",
      "_view_name": "StyleView",
      "bar_color": null,
      "description_width": ""
     }
    },
    "0eefe871b04b4b7eb44d49051ea48ccb": {
     "model_module": "@jupyter-widgets/base",
     "model_name": "LayoutModel",
     "state": {
      "_model_module": "@jupyter-widgets/base",
      "_model_module_version": "1.2.0",
      "_model_name": "LayoutModel",
      "_view_count": null,
      "_view_module": "@jupyter-widgets/base",
      "_view_module_version": "1.2.0",
      "_view_name": "LayoutView",
      "align_content": null,
      "align_items": null,
      "align_self": null,
      "border": null,
      "bottom": null,
      "display": null,
      "flex": null,
      "flex_flow": null,
      "grid_area": null,
      "grid_auto_columns": null,
      "grid_auto_flow": null,
      "grid_auto_rows": null,
      "grid_column": null,
      "grid_gap": null,
      "grid_row": null,
      "grid_template_areas": null,
      "grid_template_columns": null,
      "grid_template_rows": null,
      "height": null,
      "justify_content": null,
      "justify_items": null,
      "left": null,
      "margin": null,
      "max_height": null,
      "max_width": null,
      "min_height": null,
      "min_width": null,
      "object_fit": null,
      "object_position": null,
      "order": null,
      "overflow": null,
      "overflow_x": null,
      "overflow_y": null,
      "padding": null,
      "right": null,
      "top": null,
      "visibility": null,
      "width": null
     }
    },
    "127aa75eca1644f6842d9ec1713253b0": {
     "model_module": "@jupyter-widgets/base",
     "model_name": "LayoutModel",
     "state": {
      "_model_module": "@jupyter-widgets/base",
      "_model_module_version": "1.2.0",
      "_model_name": "LayoutModel",
      "_view_count": null,
      "_view_module": "@jupyter-widgets/base",
      "_view_module_version": "1.2.0",
      "_view_name": "LayoutView",
      "align_content": null,
      "align_items": null,
      "align_self": null,
      "border": null,
      "bottom": null,
      "display": null,
      "flex": null,
      "flex_flow": null,
      "grid_area": null,
      "grid_auto_columns": null,
      "grid_auto_flow": null,
      "grid_auto_rows": null,
      "grid_column": null,
      "grid_gap": null,
      "grid_row": null,
      "grid_template_areas": null,
      "grid_template_columns": null,
      "grid_template_rows": null,
      "height": null,
      "justify_content": null,
      "justify_items": null,
      "left": null,
      "margin": null,
      "max_height": null,
      "max_width": null,
      "min_height": null,
      "min_width": null,
      "object_fit": null,
      "object_position": null,
      "order": null,
      "overflow": null,
      "overflow_x": null,
      "overflow_y": null,
      "padding": null,
      "right": null,
      "top": null,
      "visibility": null,
      "width": null
     }
    },
    "13d138569a2640569c36f0a9fa57706c": {
     "model_module": "@jupyter-widgets/base",
     "model_name": "LayoutModel",
     "state": {
      "_model_module": "@jupyter-widgets/base",
      "_model_module_version": "1.2.0",
      "_model_name": "LayoutModel",
      "_view_count": null,
      "_view_module": "@jupyter-widgets/base",
      "_view_module_version": "1.2.0",
      "_view_name": "LayoutView",
      "align_content": null,
      "align_items": null,
      "align_self": null,
      "border": null,
      "bottom": null,
      "display": null,
      "flex": null,
      "flex_flow": null,
      "grid_area": null,
      "grid_auto_columns": null,
      "grid_auto_flow": null,
      "grid_auto_rows": null,
      "grid_column": null,
      "grid_gap": null,
      "grid_row": null,
      "grid_template_areas": null,
      "grid_template_columns": null,
      "grid_template_rows": null,
      "height": null,
      "justify_content": null,
      "justify_items": null,
      "left": null,
      "margin": null,
      "max_height": null,
      "max_width": null,
      "min_height": null,
      "min_width": null,
      "object_fit": null,
      "object_position": null,
      "order": null,
      "overflow": null,
      "overflow_x": null,
      "overflow_y": null,
      "padding": null,
      "right": null,
      "top": null,
      "visibility": null,
      "width": null
     }
    },
    "13d5cbfbd4a94eb182cd3eba33edcf0c": {
     "model_module": "@jupyter-widgets/controls",
     "model_name": "VBoxModel",
     "state": {
      "_dom_classes": [],
      "_model_module": "@jupyter-widgets/controls",
      "_model_module_version": "1.5.0",
      "_model_name": "VBoxModel",
      "_view_count": null,
      "_view_module": "@jupyter-widgets/controls",
      "_view_module_version": "1.5.0",
      "_view_name": "VBoxView",
      "box_style": "",
      "children": [
       "IPY_MODEL_deeef9b1614749b59356b8828d570ebf",
       "IPY_MODEL_34a6caf0c5f544f6987f636e44d04174"
      ],
      "layout": "IPY_MODEL_292c9523cfed4606986da8dc88af0b54"
     }
    },
    "157d15a7603347ac817ab231fd98ddbe": {
     "model_module": "@jupyter-widgets/controls",
     "model_name": "LabelModel",
     "state": {
      "_dom_classes": [],
      "_model_module": "@jupyter-widgets/controls",
      "_model_module_version": "1.5.0",
      "_model_name": "LabelModel",
      "_view_count": null,
      "_view_module": "@jupyter-widgets/controls",
      "_view_module_version": "1.5.0",
      "_view_name": "LabelView",
      "description": "",
      "description_tooltip": null,
      "layout": "IPY_MODEL_b5d63c3ea9b34c87bd1a996f6496178c",
      "placeholder": "​",
      "style": "IPY_MODEL_ca940e1d8bfe40acb48e921cd8f31cc0",
      "value": " 0.01MB of 0.01MB uploaded (0.00MB deduped)\r"
     }
    },
    "1dac7f5c114d4008b88bcdbca42c5db8": {
     "model_module": "@jupyter-widgets/controls",
     "model_name": "DescriptionStyleModel",
     "state": {
      "_model_module": "@jupyter-widgets/controls",
      "_model_module_version": "1.5.0",
      "_model_name": "DescriptionStyleModel",
      "_view_count": null,
      "_view_module": "@jupyter-widgets/base",
      "_view_module_version": "1.2.0",
      "_view_name": "StyleView",
      "description_width": ""
     }
    },
    "250aca5befb444e293e14ec6a2d46a48": {
     "model_module": "@jupyter-widgets/base",
     "model_name": "LayoutModel",
     "state": {
      "_model_module": "@jupyter-widgets/base",
      "_model_module_version": "1.2.0",
      "_model_name": "LayoutModel",
      "_view_count": null,
      "_view_module": "@jupyter-widgets/base",
      "_view_module_version": "1.2.0",
      "_view_name": "LayoutView",
      "align_content": null,
      "align_items": null,
      "align_self": null,
      "border": null,
      "bottom": null,
      "display": null,
      "flex": null,
      "flex_flow": null,
      "grid_area": null,
      "grid_auto_columns": null,
      "grid_auto_flow": null,
      "grid_auto_rows": null,
      "grid_column": null,
      "grid_gap": null,
      "grid_row": null,
      "grid_template_areas": null,
      "grid_template_columns": null,
      "grid_template_rows": null,
      "height": null,
      "justify_content": null,
      "justify_items": null,
      "left": null,
      "margin": null,
      "max_height": null,
      "max_width": null,
      "min_height": null,
      "min_width": null,
      "object_fit": null,
      "object_position": null,
      "order": null,
      "overflow": null,
      "overflow_x": null,
      "overflow_y": null,
      "padding": null,
      "right": null,
      "top": null,
      "visibility": null,
      "width": null
     }
    },
    "28524d7826c4426492f4d0cc8180613e": {
     "model_module": "@jupyter-widgets/controls",
     "model_name": "VBoxModel",
     "state": {
      "_dom_classes": [],
      "_model_module": "@jupyter-widgets/controls",
      "_model_module_version": "1.5.0",
      "_model_name": "VBoxModel",
      "_view_count": null,
      "_view_module": "@jupyter-widgets/controls",
      "_view_module_version": "1.5.0",
      "_view_name": "VBoxView",
      "box_style": "",
      "children": [
       "IPY_MODEL_e86ff37d154d4985895878662082a7a7",
       "IPY_MODEL_2bc0fb8ab0154bf5a9126924f784f6f6"
      ],
      "layout": "IPY_MODEL_127aa75eca1644f6842d9ec1713253b0"
     }
    },
    "292c9523cfed4606986da8dc88af0b54": {
     "model_module": "@jupyter-widgets/base",
     "model_name": "LayoutModel",
     "state": {
      "_model_module": "@jupyter-widgets/base",
      "_model_module_version": "1.2.0",
      "_model_name": "LayoutModel",
      "_view_count": null,
      "_view_module": "@jupyter-widgets/base",
      "_view_module_version": "1.2.0",
      "_view_name": "LayoutView",
      "align_content": null,
      "align_items": null,
      "align_self": null,
      "border": null,
      "bottom": null,
      "display": null,
      "flex": null,
      "flex_flow": null,
      "grid_area": null,
      "grid_auto_columns": null,
      "grid_auto_flow": null,
      "grid_auto_rows": null,
      "grid_column": null,
      "grid_gap": null,
      "grid_row": null,
      "grid_template_areas": null,
      "grid_template_columns": null,
      "grid_template_rows": null,
      "height": null,
      "justify_content": null,
      "justify_items": null,
      "left": null,
      "margin": null,
      "max_height": null,
      "max_width": null,
      "min_height": null,
      "min_width": null,
      "object_fit": null,
      "object_position": null,
      "order": null,
      "overflow": null,
      "overflow_x": null,
      "overflow_y": null,
      "padding": null,
      "right": null,
      "top": null,
      "visibility": null,
      "width": null
     }
    },
    "2aeb4abb54de49518bf71f23f17f4417": {
     "model_module": "@jupyter-widgets/base",
     "model_name": "LayoutModel",
     "state": {
      "_model_module": "@jupyter-widgets/base",
      "_model_module_version": "1.2.0",
      "_model_name": "LayoutModel",
      "_view_count": null,
      "_view_module": "@jupyter-widgets/base",
      "_view_module_version": "1.2.0",
      "_view_name": "LayoutView",
      "align_content": null,
      "align_items": null,
      "align_self": null,
      "border": null,
      "bottom": null,
      "display": null,
      "flex": null,
      "flex_flow": null,
      "grid_area": null,
      "grid_auto_columns": null,
      "grid_auto_flow": null,
      "grid_auto_rows": null,
      "grid_column": null,
      "grid_gap": null,
      "grid_row": null,
      "grid_template_areas": null,
      "grid_template_columns": null,
      "grid_template_rows": null,
      "height": null,
      "justify_content": null,
      "justify_items": null,
      "left": null,
      "margin": null,
      "max_height": null,
      "max_width": null,
      "min_height": null,
      "min_width": null,
      "object_fit": null,
      "object_position": null,
      "order": null,
      "overflow": null,
      "overflow_x": null,
      "overflow_y": null,
      "padding": null,
      "right": null,
      "top": null,
      "visibility": null,
      "width": null
     }
    },
    "2bc0fb8ab0154bf5a9126924f784f6f6": {
     "model_module": "@jupyter-widgets/controls",
     "model_name": "FloatProgressModel",
     "state": {
      "_dom_classes": [],
      "_model_module": "@jupyter-widgets/controls",
      "_model_module_version": "1.5.0",
      "_model_name": "FloatProgressModel",
      "_view_count": null,
      "_view_module": "@jupyter-widgets/controls",
      "_view_module_version": "1.5.0",
      "_view_name": "ProgressView",
      "bar_style": "",
      "description": "",
      "description_tooltip": null,
      "layout": "IPY_MODEL_3e893a2a59b842fb9b1bbb42ced6194e",
      "max": 1,
      "min": 0,
      "orientation": "horizontal",
      "style": "IPY_MODEL_0a9bdd0dcece46f493596d5bd3c4233b",
      "value": 1
     }
    },
    "312e04dfeceb4a749eea8b47d06bf5f9": {
     "model_module": "@jupyter-widgets/controls",
     "model_name": "LabelModel",
     "state": {
      "_dom_classes": [],
      "_model_module": "@jupyter-widgets/controls",
      "_model_module_version": "1.5.0",
      "_model_name": "LabelModel",
      "_view_count": null,
      "_view_module": "@jupyter-widgets/controls",
      "_view_module_version": "1.5.0",
      "_view_name": "LabelView",
      "description": "",
      "description_tooltip": null,
      "layout": "IPY_MODEL_0eefe871b04b4b7eb44d49051ea48ccb",
      "placeholder": "​",
      "style": "IPY_MODEL_66d27d90542f4c5a9a2d833fe139b4cf",
      "value": " 0.01MB of 0.01MB uploaded (0.00MB deduped)\r"
     }
    },
    "32f15481f14647a8ab0585127054b31a": {
     "model_module": "@jupyter-widgets/controls",
     "model_name": "ProgressStyleModel",
     "state": {
      "_model_module": "@jupyter-widgets/controls",
      "_model_module_version": "1.5.0",
      "_model_name": "ProgressStyleModel",
      "_view_count": null,
      "_view_module": "@jupyter-widgets/base",
      "_view_module_version": "1.2.0",
      "_view_name": "StyleView",
      "bar_color": null,
      "description_width": ""
     }
    },
    "337e1d122c094761bb404154c937bc41": {
     "model_module": "@jupyter-widgets/controls",
     "model_name": "LabelModel",
     "state": {
      "_dom_classes": [],
      "_model_module": "@jupyter-widgets/controls",
      "_model_module_version": "1.5.0",
      "_model_name": "LabelModel",
      "_view_count": null,
      "_view_module": "@jupyter-widgets/controls",
      "_view_module_version": "1.5.0",
      "_view_name": "LabelView",
      "description": "",
      "description_tooltip": null,
      "layout": "IPY_MODEL_aec35242f8614d6197cd200022fe6c57",
      "placeholder": "​",
      "style": "IPY_MODEL_9b45a7be00fd4ed7bd32cee9f0518641",
      "value": " 0.01MB of 0.01MB uploaded (0.00MB deduped)\r"
     }
    },
    "34a6caf0c5f544f6987f636e44d04174": {
     "model_module": "@jupyter-widgets/controls",
     "model_name": "FloatProgressModel",
     "state": {
      "_dom_classes": [],
      "_model_module": "@jupyter-widgets/controls",
      "_model_module_version": "1.5.0",
      "_model_name": "FloatProgressModel",
      "_view_count": null,
      "_view_module": "@jupyter-widgets/controls",
      "_view_module_version": "1.5.0",
      "_view_name": "ProgressView",
      "bar_style": "",
      "description": "",
      "description_tooltip": null,
      "layout": "IPY_MODEL_38b0e57301fe44a09530de74adcda0bc",
      "max": 1,
      "min": 0,
      "orientation": "horizontal",
      "style": "IPY_MODEL_0b7b0f729b9643e8ae27ea7666648e2b",
      "value": 1
     }
    },
    "35fe9f3171d7463d9c42056b371e99b2": {
     "model_module": "@jupyter-widgets/controls",
     "model_name": "VBoxModel",
     "state": {
      "_dom_classes": [],
      "_model_module": "@jupyter-widgets/controls",
      "_model_module_version": "1.5.0",
      "_model_name": "VBoxModel",
      "_view_count": null,
      "_view_module": "@jupyter-widgets/controls",
      "_view_module_version": "1.5.0",
      "_view_name": "VBoxView",
      "box_style": "",
      "children": [
       "IPY_MODEL_337e1d122c094761bb404154c937bc41",
       "IPY_MODEL_4348a1ea392946348297c7422d367953"
      ],
      "layout": "IPY_MODEL_d1d1882532034664abc7e7e3db6c1eb5"
     }
    },
    "38b0e57301fe44a09530de74adcda0bc": {
     "model_module": "@jupyter-widgets/base",
     "model_name": "LayoutModel",
     "state": {
      "_model_module": "@jupyter-widgets/base",
      "_model_module_version": "1.2.0",
      "_model_name": "LayoutModel",
      "_view_count": null,
      "_view_module": "@jupyter-widgets/base",
      "_view_module_version": "1.2.0",
      "_view_name": "LayoutView",
      "align_content": null,
      "align_items": null,
      "align_self": null,
      "border": null,
      "bottom": null,
      "display": null,
      "flex": null,
      "flex_flow": null,
      "grid_area": null,
      "grid_auto_columns": null,
      "grid_auto_flow": null,
      "grid_auto_rows": null,
      "grid_column": null,
      "grid_gap": null,
      "grid_row": null,
      "grid_template_areas": null,
      "grid_template_columns": null,
      "grid_template_rows": null,
      "height": null,
      "justify_content": null,
      "justify_items": null,
      "left": null,
      "margin": null,
      "max_height": null,
      "max_width": null,
      "min_height": null,
      "min_width": null,
      "object_fit": null,
      "object_position": null,
      "order": null,
      "overflow": null,
      "overflow_x": null,
      "overflow_y": null,
      "padding": null,
      "right": null,
      "top": null,
      "visibility": null,
      "width": null
     }
    },
    "3bbc2e99e43f4ea2abac2a7badce0372": {
     "model_module": "@jupyter-widgets/base",
     "model_name": "LayoutModel",
     "state": {
      "_model_module": "@jupyter-widgets/base",
      "_model_module_version": "1.2.0",
      "_model_name": "LayoutModel",
      "_view_count": null,
      "_view_module": "@jupyter-widgets/base",
      "_view_module_version": "1.2.0",
      "_view_name": "LayoutView",
      "align_content": null,
      "align_items": null,
      "align_self": null,
      "border": null,
      "bottom": null,
      "display": null,
      "flex": null,
      "flex_flow": null,
      "grid_area": null,
      "grid_auto_columns": null,
      "grid_auto_flow": null,
      "grid_auto_rows": null,
      "grid_column": null,
      "grid_gap": null,
      "grid_row": null,
      "grid_template_areas": null,
      "grid_template_columns": null,
      "grid_template_rows": null,
      "height": null,
      "justify_content": null,
      "justify_items": null,
      "left": null,
      "margin": null,
      "max_height": null,
      "max_width": null,
      "min_height": null,
      "min_width": null,
      "object_fit": null,
      "object_position": null,
      "order": null,
      "overflow": null,
      "overflow_x": null,
      "overflow_y": null,
      "padding": null,
      "right": null,
      "top": null,
      "visibility": null,
      "width": null
     }
    },
    "3e893a2a59b842fb9b1bbb42ced6194e": {
     "model_module": "@jupyter-widgets/base",
     "model_name": "LayoutModel",
     "state": {
      "_model_module": "@jupyter-widgets/base",
      "_model_module_version": "1.2.0",
      "_model_name": "LayoutModel",
      "_view_count": null,
      "_view_module": "@jupyter-widgets/base",
      "_view_module_version": "1.2.0",
      "_view_name": "LayoutView",
      "align_content": null,
      "align_items": null,
      "align_self": null,
      "border": null,
      "bottom": null,
      "display": null,
      "flex": null,
      "flex_flow": null,
      "grid_area": null,
      "grid_auto_columns": null,
      "grid_auto_flow": null,
      "grid_auto_rows": null,
      "grid_column": null,
      "grid_gap": null,
      "grid_row": null,
      "grid_template_areas": null,
      "grid_template_columns": null,
      "grid_template_rows": null,
      "height": null,
      "justify_content": null,
      "justify_items": null,
      "left": null,
      "margin": null,
      "max_height": null,
      "max_width": null,
      "min_height": null,
      "min_width": null,
      "object_fit": null,
      "object_position": null,
      "order": null,
      "overflow": null,
      "overflow_x": null,
      "overflow_y": null,
      "padding": null,
      "right": null,
      "top": null,
      "visibility": null,
      "width": null
     }
    },
    "4348a1ea392946348297c7422d367953": {
     "model_module": "@jupyter-widgets/controls",
     "model_name": "FloatProgressModel",
     "state": {
      "_dom_classes": [],
      "_model_module": "@jupyter-widgets/controls",
      "_model_module_version": "1.5.0",
      "_model_name": "FloatProgressModel",
      "_view_count": null,
      "_view_module": "@jupyter-widgets/controls",
      "_view_module_version": "1.5.0",
      "_view_name": "ProgressView",
      "bar_style": "",
      "description": "",
      "description_tooltip": null,
      "layout": "IPY_MODEL_13d138569a2640569c36f0a9fa57706c",
      "max": 1,
      "min": 0,
      "orientation": "horizontal",
      "style": "IPY_MODEL_a28b092f77ae43ec93e1ac11eae5c2fe",
      "value": 1
     }
    },
    "454cc2956b3b4294b1d3630d8fecb02e": {
     "model_module": "@jupyter-widgets/controls",
     "model_name": "FloatProgressModel",
     "state": {
      "_dom_classes": [],
      "_model_module": "@jupyter-widgets/controls",
      "_model_module_version": "1.5.0",
      "_model_name": "FloatProgressModel",
      "_view_count": null,
      "_view_module": "@jupyter-widgets/controls",
      "_view_module_version": "1.5.0",
      "_view_name": "ProgressView",
      "bar_style": "",
      "description": "",
      "description_tooltip": null,
      "layout": "IPY_MODEL_7f3a06c047754c04b4f419bec2360bf7",
      "max": 1,
      "min": 0,
      "orientation": "horizontal",
      "style": "IPY_MODEL_32f15481f14647a8ab0585127054b31a",
      "value": 1
     }
    },
    "4bc16b66da454640936d0ebbd21dd8bf": {
     "model_module": "@jupyter-widgets/base",
     "model_name": "LayoutModel",
     "state": {
      "_model_module": "@jupyter-widgets/base",
      "_model_module_version": "1.2.0",
      "_model_name": "LayoutModel",
      "_view_count": null,
      "_view_module": "@jupyter-widgets/base",
      "_view_module_version": "1.2.0",
      "_view_name": "LayoutView",
      "align_content": null,
      "align_items": null,
      "align_self": null,
      "border": null,
      "bottom": null,
      "display": null,
      "flex": null,
      "flex_flow": null,
      "grid_area": null,
      "grid_auto_columns": null,
      "grid_auto_flow": null,
      "grid_auto_rows": null,
      "grid_column": null,
      "grid_gap": null,
      "grid_row": null,
      "grid_template_areas": null,
      "grid_template_columns": null,
      "grid_template_rows": null,
      "height": null,
      "justify_content": null,
      "justify_items": null,
      "left": null,
      "margin": null,
      "max_height": null,
      "max_width": null,
      "min_height": null,
      "min_width": null,
      "object_fit": null,
      "object_position": null,
      "order": null,
      "overflow": null,
      "overflow_x": null,
      "overflow_y": null,
      "padding": null,
      "right": null,
      "top": null,
      "visibility": null,
      "width": null
     }
    },
    "5eec22b31bd5451dbe2d05ac7e789c10": {
     "model_module": "@jupyter-widgets/base",
     "model_name": "LayoutModel",
     "state": {
      "_model_module": "@jupyter-widgets/base",
      "_model_module_version": "1.2.0",
      "_model_name": "LayoutModel",
      "_view_count": null,
      "_view_module": "@jupyter-widgets/base",
      "_view_module_version": "1.2.0",
      "_view_name": "LayoutView",
      "align_content": null,
      "align_items": null,
      "align_self": null,
      "border": null,
      "bottom": null,
      "display": null,
      "flex": null,
      "flex_flow": null,
      "grid_area": null,
      "grid_auto_columns": null,
      "grid_auto_flow": null,
      "grid_auto_rows": null,
      "grid_column": null,
      "grid_gap": null,
      "grid_row": null,
      "grid_template_areas": null,
      "grid_template_columns": null,
      "grid_template_rows": null,
      "height": null,
      "justify_content": null,
      "justify_items": null,
      "left": null,
      "margin": null,
      "max_height": null,
      "max_width": null,
      "min_height": null,
      "min_width": null,
      "object_fit": null,
      "object_position": null,
      "order": null,
      "overflow": null,
      "overflow_x": null,
      "overflow_y": null,
      "padding": null,
      "right": null,
      "top": null,
      "visibility": null,
      "width": null
     }
    },
    "63965829d3974a188471c2ec70da70bd": {
     "model_module": "@jupyter-widgets/controls",
     "model_name": "DescriptionStyleModel",
     "state": {
      "_model_module": "@jupyter-widgets/controls",
      "_model_module_version": "1.5.0",
      "_model_name": "DescriptionStyleModel",
      "_view_count": null,
      "_view_module": "@jupyter-widgets/base",
      "_view_module_version": "1.2.0",
      "_view_name": "StyleView",
      "description_width": ""
     }
    },
    "6505b79dea37438d80704d7b8e507df8": {
     "model_module": "@jupyter-widgets/controls",
     "model_name": "VBoxModel",
     "state": {
      "_dom_classes": [],
      "_model_module": "@jupyter-widgets/controls",
      "_model_module_version": "1.5.0",
      "_model_name": "VBoxModel",
      "_view_count": null,
      "_view_module": "@jupyter-widgets/controls",
      "_view_module_version": "1.5.0",
      "_view_name": "VBoxView",
      "box_style": "",
      "children": [
       "IPY_MODEL_312e04dfeceb4a749eea8b47d06bf5f9",
       "IPY_MODEL_454cc2956b3b4294b1d3630d8fecb02e"
      ],
      "layout": "IPY_MODEL_250aca5befb444e293e14ec6a2d46a48"
     }
    },
    "66d27d90542f4c5a9a2d833fe139b4cf": {
     "model_module": "@jupyter-widgets/controls",
     "model_name": "DescriptionStyleModel",
     "state": {
      "_model_module": "@jupyter-widgets/controls",
      "_model_module_version": "1.5.0",
      "_model_name": "DescriptionStyleModel",
      "_view_count": null,
      "_view_module": "@jupyter-widgets/base",
      "_view_module_version": "1.2.0",
      "_view_name": "StyleView",
      "description_width": ""
     }
    },
    "6b5cbe5d40bd4b2dbd228e584914b254": {
     "model_module": "@jupyter-widgets/controls",
     "model_name": "LabelModel",
     "state": {
      "_dom_classes": [],
      "_model_module": "@jupyter-widgets/controls",
      "_model_module_version": "1.5.0",
      "_model_name": "LabelModel",
      "_view_count": null,
      "_view_module": "@jupyter-widgets/controls",
      "_view_module_version": "1.5.0",
      "_view_name": "LabelView",
      "description": "",
      "description_tooltip": null,
      "layout": "IPY_MODEL_2aeb4abb54de49518bf71f23f17f4417",
      "placeholder": "​",
      "style": "IPY_MODEL_fce6b126b8b040b1b2428d3165da8c74",
      "value": " 0.01MB of 0.01MB uploaded (0.00MB deduped)\r"
     }
    },
    "7f3a06c047754c04b4f419bec2360bf7": {
     "model_module": "@jupyter-widgets/base",
     "model_name": "LayoutModel",
     "state": {
      "_model_module": "@jupyter-widgets/base",
      "_model_module_version": "1.2.0",
      "_model_name": "LayoutModel",
      "_view_count": null,
      "_view_module": "@jupyter-widgets/base",
      "_view_module_version": "1.2.0",
      "_view_name": "LayoutView",
      "align_content": null,
      "align_items": null,
      "align_self": null,
      "border": null,
      "bottom": null,
      "display": null,
      "flex": null,
      "flex_flow": null,
      "grid_area": null,
      "grid_auto_columns": null,
      "grid_auto_flow": null,
      "grid_auto_rows": null,
      "grid_column": null,
      "grid_gap": null,
      "grid_row": null,
      "grid_template_areas": null,
      "grid_template_columns": null,
      "grid_template_rows": null,
      "height": null,
      "justify_content": null,
      "justify_items": null,
      "left": null,
      "margin": null,
      "max_height": null,
      "max_width": null,
      "min_height": null,
      "min_width": null,
      "object_fit": null,
      "object_position": null,
      "order": null,
      "overflow": null,
      "overflow_x": null,
      "overflow_y": null,
      "padding": null,
      "right": null,
      "top": null,
      "visibility": null,
      "width": null
     }
    },
    "8283f985be024f9fb605e519ac048150": {
     "model_module": "@jupyter-widgets/controls",
     "model_name": "VBoxModel",
     "state": {
      "_dom_classes": [],
      "_model_module": "@jupyter-widgets/controls",
      "_model_module_version": "1.5.0",
      "_model_name": "VBoxModel",
      "_view_count": null,
      "_view_module": "@jupyter-widgets/controls",
      "_view_module_version": "1.5.0",
      "_view_name": "VBoxView",
      "box_style": "",
      "children": [
       "IPY_MODEL_157d15a7603347ac817ab231fd98ddbe",
       "IPY_MODEL_f3d687c8e9d04568a2184d0cfaec0fa1"
      ],
      "layout": "IPY_MODEL_b9165aa12e2d4d7c9eb678715d4cbc2d"
     }
    },
    "9b45a7be00fd4ed7bd32cee9f0518641": {
     "model_module": "@jupyter-widgets/controls",
     "model_name": "DescriptionStyleModel",
     "state": {
      "_model_module": "@jupyter-widgets/controls",
      "_model_module_version": "1.5.0",
      "_model_name": "DescriptionStyleModel",
      "_view_count": null,
      "_view_module": "@jupyter-widgets/base",
      "_view_module_version": "1.2.0",
      "_view_name": "StyleView",
      "description_width": ""
     }
    },
    "a28b092f77ae43ec93e1ac11eae5c2fe": {
     "model_module": "@jupyter-widgets/controls",
     "model_name": "ProgressStyleModel",
     "state": {
      "_model_module": "@jupyter-widgets/controls",
      "_model_module_version": "1.5.0",
      "_model_name": "ProgressStyleModel",
      "_view_count": null,
      "_view_module": "@jupyter-widgets/base",
      "_view_module_version": "1.2.0",
      "_view_name": "StyleView",
      "bar_color": null,
      "description_width": ""
     }
    },
    "aec35242f8614d6197cd200022fe6c57": {
     "model_module": "@jupyter-widgets/base",
     "model_name": "LayoutModel",
     "state": {
      "_model_module": "@jupyter-widgets/base",
      "_model_module_version": "1.2.0",
      "_model_name": "LayoutModel",
      "_view_count": null,
      "_view_module": "@jupyter-widgets/base",
      "_view_module_version": "1.2.0",
      "_view_name": "LayoutView",
      "align_content": null,
      "align_items": null,
      "align_self": null,
      "border": null,
      "bottom": null,
      "display": null,
      "flex": null,
      "flex_flow": null,
      "grid_area": null,
      "grid_auto_columns": null,
      "grid_auto_flow": null,
      "grid_auto_rows": null,
      "grid_column": null,
      "grid_gap": null,
      "grid_row": null,
      "grid_template_areas": null,
      "grid_template_columns": null,
      "grid_template_rows": null,
      "height": null,
      "justify_content": null,
      "justify_items": null,
      "left": null,
      "margin": null,
      "max_height": null,
      "max_width": null,
      "min_height": null,
      "min_width": null,
      "object_fit": null,
      "object_position": null,
      "order": null,
      "overflow": null,
      "overflow_x": null,
      "overflow_y": null,
      "padding": null,
      "right": null,
      "top": null,
      "visibility": null,
      "width": null
     }
    },
    "b1cf8bd99be04f06ba9b8cb03bba89e3": {
     "model_module": "@jupyter-widgets/base",
     "model_name": "LayoutModel",
     "state": {
      "_model_module": "@jupyter-widgets/base",
      "_model_module_version": "1.2.0",
      "_model_name": "LayoutModel",
      "_view_count": null,
      "_view_module": "@jupyter-widgets/base",
      "_view_module_version": "1.2.0",
      "_view_name": "LayoutView",
      "align_content": null,
      "align_items": null,
      "align_self": null,
      "border": null,
      "bottom": null,
      "display": null,
      "flex": null,
      "flex_flow": null,
      "grid_area": null,
      "grid_auto_columns": null,
      "grid_auto_flow": null,
      "grid_auto_rows": null,
      "grid_column": null,
      "grid_gap": null,
      "grid_row": null,
      "grid_template_areas": null,
      "grid_template_columns": null,
      "grid_template_rows": null,
      "height": null,
      "justify_content": null,
      "justify_items": null,
      "left": null,
      "margin": null,
      "max_height": null,
      "max_width": null,
      "min_height": null,
      "min_width": null,
      "object_fit": null,
      "object_position": null,
      "order": null,
      "overflow": null,
      "overflow_x": null,
      "overflow_y": null,
      "padding": null,
      "right": null,
      "top": null,
      "visibility": null,
      "width": null
     }
    },
    "b5d63c3ea9b34c87bd1a996f6496178c": {
     "model_module": "@jupyter-widgets/base",
     "model_name": "LayoutModel",
     "state": {
      "_model_module": "@jupyter-widgets/base",
      "_model_module_version": "1.2.0",
      "_model_name": "LayoutModel",
      "_view_count": null,
      "_view_module": "@jupyter-widgets/base",
      "_view_module_version": "1.2.0",
      "_view_name": "LayoutView",
      "align_content": null,
      "align_items": null,
      "align_self": null,
      "border": null,
      "bottom": null,
      "display": null,
      "flex": null,
      "flex_flow": null,
      "grid_area": null,
      "grid_auto_columns": null,
      "grid_auto_flow": null,
      "grid_auto_rows": null,
      "grid_column": null,
      "grid_gap": null,
      "grid_row": null,
      "grid_template_areas": null,
      "grid_template_columns": null,
      "grid_template_rows": null,
      "height": null,
      "justify_content": null,
      "justify_items": null,
      "left": null,
      "margin": null,
      "max_height": null,
      "max_width": null,
      "min_height": null,
      "min_width": null,
      "object_fit": null,
      "object_position": null,
      "order": null,
      "overflow": null,
      "overflow_x": null,
      "overflow_y": null,
      "padding": null,
      "right": null,
      "top": null,
      "visibility": null,
      "width": null
     }
    },
    "b9165aa12e2d4d7c9eb678715d4cbc2d": {
     "model_module": "@jupyter-widgets/base",
     "model_name": "LayoutModel",
     "state": {
      "_model_module": "@jupyter-widgets/base",
      "_model_module_version": "1.2.0",
      "_model_name": "LayoutModel",
      "_view_count": null,
      "_view_module": "@jupyter-widgets/base",
      "_view_module_version": "1.2.0",
      "_view_name": "LayoutView",
      "align_content": null,
      "align_items": null,
      "align_self": null,
      "border": null,
      "bottom": null,
      "display": null,
      "flex": null,
      "flex_flow": null,
      "grid_area": null,
      "grid_auto_columns": null,
      "grid_auto_flow": null,
      "grid_auto_rows": null,
      "grid_column": null,
      "grid_gap": null,
      "grid_row": null,
      "grid_template_areas": null,
      "grid_template_columns": null,
      "grid_template_rows": null,
      "height": null,
      "justify_content": null,
      "justify_items": null,
      "left": null,
      "margin": null,
      "max_height": null,
      "max_width": null,
      "min_height": null,
      "min_width": null,
      "object_fit": null,
      "object_position": null,
      "order": null,
      "overflow": null,
      "overflow_x": null,
      "overflow_y": null,
      "padding": null,
      "right": null,
      "top": null,
      "visibility": null,
      "width": null
     }
    },
    "ca940e1d8bfe40acb48e921cd8f31cc0": {
     "model_module": "@jupyter-widgets/controls",
     "model_name": "DescriptionStyleModel",
     "state": {
      "_model_module": "@jupyter-widgets/controls",
      "_model_module_version": "1.5.0",
      "_model_name": "DescriptionStyleModel",
      "_view_count": null,
      "_view_module": "@jupyter-widgets/base",
      "_view_module_version": "1.2.0",
      "_view_name": "StyleView",
      "description_width": ""
     }
    },
    "d1d1882532034664abc7e7e3db6c1eb5": {
     "model_module": "@jupyter-widgets/base",
     "model_name": "LayoutModel",
     "state": {
      "_model_module": "@jupyter-widgets/base",
      "_model_module_version": "1.2.0",
      "_model_name": "LayoutModel",
      "_view_count": null,
      "_view_module": "@jupyter-widgets/base",
      "_view_module_version": "1.2.0",
      "_view_name": "LayoutView",
      "align_content": null,
      "align_items": null,
      "align_self": null,
      "border": null,
      "bottom": null,
      "display": null,
      "flex": null,
      "flex_flow": null,
      "grid_area": null,
      "grid_auto_columns": null,
      "grid_auto_flow": null,
      "grid_auto_rows": null,
      "grid_column": null,
      "grid_gap": null,
      "grid_row": null,
      "grid_template_areas": null,
      "grid_template_columns": null,
      "grid_template_rows": null,
      "height": null,
      "justify_content": null,
      "justify_items": null,
      "left": null,
      "margin": null,
      "max_height": null,
      "max_width": null,
      "min_height": null,
      "min_width": null,
      "object_fit": null,
      "object_position": null,
      "order": null,
      "overflow": null,
      "overflow_x": null,
      "overflow_y": null,
      "padding": null,
      "right": null,
      "top": null,
      "visibility": null,
      "width": null
     }
    },
    "d239084c0b204887b4e53a914f05c6cd": {
     "model_module": "@jupyter-widgets/controls",
     "model_name": "ProgressStyleModel",
     "state": {
      "_model_module": "@jupyter-widgets/controls",
      "_model_module_version": "1.5.0",
      "_model_name": "ProgressStyleModel",
      "_view_count": null,
      "_view_module": "@jupyter-widgets/base",
      "_view_module_version": "1.2.0",
      "_view_name": "StyleView",
      "bar_color": null,
      "description_width": ""
     }
    },
    "d77a3f4e0e3a4de08f3ef4900c424f3d": {
     "model_module": "@jupyter-widgets/base",
     "model_name": "LayoutModel",
     "state": {
      "_model_module": "@jupyter-widgets/base",
      "_model_module_version": "1.2.0",
      "_model_name": "LayoutModel",
      "_view_count": null,
      "_view_module": "@jupyter-widgets/base",
      "_view_module_version": "1.2.0",
      "_view_name": "LayoutView",
      "align_content": null,
      "align_items": null,
      "align_self": null,
      "border": null,
      "bottom": null,
      "display": null,
      "flex": null,
      "flex_flow": null,
      "grid_area": null,
      "grid_auto_columns": null,
      "grid_auto_flow": null,
      "grid_auto_rows": null,
      "grid_column": null,
      "grid_gap": null,
      "grid_row": null,
      "grid_template_areas": null,
      "grid_template_columns": null,
      "grid_template_rows": null,
      "height": null,
      "justify_content": null,
      "justify_items": null,
      "left": null,
      "margin": null,
      "max_height": null,
      "max_width": null,
      "min_height": null,
      "min_width": null,
      "object_fit": null,
      "object_position": null,
      "order": null,
      "overflow": null,
      "overflow_x": null,
      "overflow_y": null,
      "padding": null,
      "right": null,
      "top": null,
      "visibility": null,
      "width": null
     }
    },
    "deeef9b1614749b59356b8828d570ebf": {
     "model_module": "@jupyter-widgets/controls",
     "model_name": "LabelModel",
     "state": {
      "_dom_classes": [],
      "_model_module": "@jupyter-widgets/controls",
      "_model_module_version": "1.5.0",
      "_model_name": "LabelModel",
      "_view_count": null,
      "_view_module": "@jupyter-widgets/controls",
      "_view_module_version": "1.5.0",
      "_view_name": "LabelView",
      "description": "",
      "description_tooltip": null,
      "layout": "IPY_MODEL_b1cf8bd99be04f06ba9b8cb03bba89e3",
      "placeholder": "​",
      "style": "IPY_MODEL_1dac7f5c114d4008b88bcdbca42c5db8",
      "value": " 0.01MB of 0.01MB uploaded (0.00MB deduped)\r"
     }
    },
    "e86ff37d154d4985895878662082a7a7": {
     "model_module": "@jupyter-widgets/controls",
     "model_name": "LabelModel",
     "state": {
      "_dom_classes": [],
      "_model_module": "@jupyter-widgets/controls",
      "_model_module_version": "1.5.0",
      "_model_name": "LabelModel",
      "_view_count": null,
      "_view_module": "@jupyter-widgets/controls",
      "_view_module_version": "1.5.0",
      "_view_name": "LabelView",
      "description": "",
      "description_tooltip": null,
      "layout": "IPY_MODEL_5eec22b31bd5451dbe2d05ac7e789c10",
      "placeholder": "​",
      "style": "IPY_MODEL_63965829d3974a188471c2ec70da70bd",
      "value": " 0.01MB of 0.01MB uploaded (0.00MB deduped)\r"
     }
    },
    "f2b5ff187cd644d79a87f310035f9829": {
     "model_module": "@jupyter-widgets/controls",
     "model_name": "FloatProgressModel",
     "state": {
      "_dom_classes": [],
      "_model_module": "@jupyter-widgets/controls",
      "_model_module_version": "1.5.0",
      "_model_name": "FloatProgressModel",
      "_view_count": null,
      "_view_module": "@jupyter-widgets/controls",
      "_view_module_version": "1.5.0",
      "_view_name": "ProgressView",
      "bar_style": "",
      "description": "",
      "description_tooltip": null,
      "layout": "IPY_MODEL_3bbc2e99e43f4ea2abac2a7badce0372",
      "max": 1,
      "min": 0,
      "orientation": "horizontal",
      "style": "IPY_MODEL_d239084c0b204887b4e53a914f05c6cd",
      "value": 1
     }
    },
    "f3d687c8e9d04568a2184d0cfaec0fa1": {
     "model_module": "@jupyter-widgets/controls",
     "model_name": "FloatProgressModel",
     "state": {
      "_dom_classes": [],
      "_model_module": "@jupyter-widgets/controls",
      "_model_module_version": "1.5.0",
      "_model_name": "FloatProgressModel",
      "_view_count": null,
      "_view_module": "@jupyter-widgets/controls",
      "_view_module_version": "1.5.0",
      "_view_name": "ProgressView",
      "bar_style": "",
      "description": "",
      "description_tooltip": null,
      "layout": "IPY_MODEL_4bc16b66da454640936d0ebbd21dd8bf",
      "max": 1,
      "min": 0,
      "orientation": "horizontal",
      "style": "IPY_MODEL_ff98b3af807e4ab88b7637ab9476beaf",
      "value": 1
     }
    },
    "fce6b126b8b040b1b2428d3165da8c74": {
     "model_module": "@jupyter-widgets/controls",
     "model_name": "DescriptionStyleModel",
     "state": {
      "_model_module": "@jupyter-widgets/controls",
      "_model_module_version": "1.5.0",
      "_model_name": "DescriptionStyleModel",
      "_view_count": null,
      "_view_module": "@jupyter-widgets/base",
      "_view_module_version": "1.2.0",
      "_view_name": "StyleView",
      "description_width": ""
     }
    },
    "ff98b3af807e4ab88b7637ab9476beaf": {
     "model_module": "@jupyter-widgets/controls",
     "model_name": "ProgressStyleModel",
     "state": {
      "_model_module": "@jupyter-widgets/controls",
      "_model_module_version": "1.5.0",
      "_model_name": "ProgressStyleModel",
      "_view_count": null,
      "_view_module": "@jupyter-widgets/base",
      "_view_module_version": "1.2.0",
      "_view_name": "StyleView",
      "bar_color": null,
      "description_width": ""
     }
    }
   }
  }
 },
 "nbformat": 4,
 "nbformat_minor": 1
}
